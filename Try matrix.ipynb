{
 "cells": [
  {
   "cell_type": "code",
   "execution_count": 3,
   "metadata": {},
   "outputs": [],
   "source": [
    "%load_ext autoreload\n",
    "%autoreload 2"
   ]
  },
  {
   "cell_type": "code",
   "execution_count": 4,
   "metadata": {},
   "outputs": [],
   "source": [
    "import hgflask\n",
    "import hgflask.client as hfc\n"
   ]
  },
  {
   "cell_type": "code",
   "execution_count": 9,
   "metadata": {},
   "outputs": [
    {
     "name": "stdout",
     "output_type": "stream",
     "text": [
      "processes: {'LMWxOYCISU-HGpIdIAEb_g': <Process(Process-1, started)>}\n",
      "terminating: LMWxOYCISU-HGpIdIAEb_g\n"
     ]
    },
    {
     "name": "stderr",
     "output_type": "stream",
     "text": [
      " * Running on http://0.0.0.0:62287/ (Press CTRL+C to quit)\n"
     ]
    },
    {
     "name": "stdout",
     "output_type": "stream",
     "text": [
      "sleeping\n"
     ]
    },
    {
     "name": "stderr",
     "output_type": "stream",
     "text": [
      "127.0.0.1 - - [18/Aug/2018 18:49:40] \"\u001b[37mGET /api/v1/tileset_info/?d=x HTTP/1.1\u001b[0m\" 200 -\n"
     ]
    },
    {
     "name": "stdout",
     "output_type": "stream",
     "text": [
      "filetype: cooler\n"
     ]
    },
    {
     "name": "stderr",
     "output_type": "stream",
     "text": [
      "127.0.0.1 - - [18/Aug/2018 18:49:40] \"\u001b[37mGET /api/v1/tileset_info/?d=a HTTP/1.1\u001b[0m\" 200 -\n"
     ]
    },
    {
     "name": "stdout",
     "output_type": "stream",
     "text": [
      "{'bins_per_dimension': 256, 'chromsizes': [['chrom1', 1000000]], 'filepath': 'matrix.mcool', 'max_pos': [1000000, 1000000], 'max_width': 1048576, 'max_zoom': 12, 'min_pos': [0, 0], 'transforms': [], 'uuid': 'a'}\n",
      "filetype: cooler\n"
     ]
    },
    {
     "name": "stderr",
     "output_type": "stream",
     "text": [
      "127.0.0.1 - - [18/Aug/2018 18:49:41] \"\u001b[37mGET /api/v1/tileset_info/?d=a HTTP/1.1\u001b[0m\" 200 -\n",
      "127.0.0.1 - - [18/Aug/2018 18:49:41] \"\u001b[37mGET /api/v1/tiles/?d=a.11.0.0 HTTP/1.1\u001b[0m\" 200 -\n",
      "127.0.0.1 - - [18/Aug/2018 18:49:42] \"\u001b[37mGET /api/v1/tiles/?d=a.12.0.0 HTTP/1.1\u001b[0m\" 200 -\n",
      "127.0.0.1 - - [18/Aug/2018 18:49:43] \"\u001b[37mOPTIONS /api/v1/tileset_info/?d=a&s=J1zDk0u5QCeHk4896Mk0jw HTTP/1.1\u001b[0m\" 200 -\n"
     ]
    },
    {
     "name": "stdout",
     "output_type": "stream",
     "text": [
      "filetype: cooler\n"
     ]
    },
    {
     "name": "stderr",
     "output_type": "stream",
     "text": [
      "127.0.0.1 - - [18/Aug/2018 18:49:43] \"\u001b[37mGET /api/v1/tileset_info/?d=a&s=J1zDk0u5QCeHk4896Mk0jw HTTP/1.1\u001b[0m\" 200 -\n",
      "127.0.0.1 - - [18/Aug/2018 18:49:43] \"\u001b[37mOPTIONS /api/v1/tiles/?d=a.12.0.0&s=J1zDk0u5QCeHk4896Mk0jw HTTP/1.1\u001b[0m\" 200 -\n",
      "127.0.0.1 - - [18/Aug/2018 18:49:43] \"\u001b[37mGET /api/v1/tiles/?d=a.12.0.0&s=J1zDk0u5QCeHk4896Mk0jw HTTP/1.1\u001b[0m\" 200 -\n",
      "127.0.0.1 - - [18/Aug/2018 18:49:45] \"\u001b[37mOPTIONS /api/v1/tiles/?d=a.12.0.1&s=J1zDk0u5QCeHk4896Mk0jw HTTP/1.1\u001b[0m\" 200 -\n",
      "127.0.0.1 - - [18/Aug/2018 18:49:46] \"\u001b[37mGET /api/v1/tiles/?d=a.12.0.1&s=J1zDk0u5QCeHk4896Mk0jw HTTP/1.1\u001b[0m\" 200 -\n",
      "127.0.0.1 - - [18/Aug/2018 18:49:46] \"\u001b[37mOPTIONS /api/v1/tiles/?d=a.12.0.1&d=a.12.1.1&s=J1zDk0u5QCeHk4896Mk0jw HTTP/1.1\u001b[0m\" 200 -\n",
      "127.0.0.1 - - [18/Aug/2018 18:49:47] \"\u001b[37mGET /api/v1/tiles/?d=a.12.0.1&d=a.12.1.1&s=J1zDk0u5QCeHk4896Mk0jw HTTP/1.1\u001b[0m\" 200 -\n",
      "127.0.0.1 - - [18/Aug/2018 18:49:47] \"\u001b[37mOPTIONS /api/v1/tiles/?d=a.12.0.2&d=a.12.1.2&d=a.12.2.2&d=a.11.0.0&d=a.11.0.1&d=a.11.1.1&s=J1zDk0u5QCeHk4896Mk0jw HTTP/1.1\u001b[0m\" 200 -\n",
      "127.0.0.1 - - [18/Aug/2018 18:49:48] \"\u001b[37mGET /api/v1/tiles/?d=a.12.0.2&d=a.12.1.2&d=a.12.2.2&d=a.11.0.0&d=a.11.0.1&d=a.11.1.1&s=J1zDk0u5QCeHk4896Mk0jw HTTP/1.1\u001b[0m\" 200 -\n",
      "127.0.0.1 - - [18/Aug/2018 18:49:48] \"\u001b[37mOPTIONS /api/v1/tiles/?d=a.11.0.2&d=a.11.1.2&s=J1zDk0u5QCeHk4896Mk0jw HTTP/1.1\u001b[0m\" 200 -\n",
      "127.0.0.1 - - [18/Aug/2018 18:49:48] \"\u001b[37mGET /api/v1/tiles/?d=a.11.0.2&d=a.11.1.2&s=J1zDk0u5QCeHk4896Mk0jw HTTP/1.1\u001b[0m\" 200 -\n",
      "127.0.0.1 - - [18/Aug/2018 18:49:48] \"\u001b[37mOPTIONS /api/v1/tiles/?d=a.11.2.2&s=J1zDk0u5QCeHk4896Mk0jw HTTP/1.1\u001b[0m\" 200 -\n",
      "127.0.0.1 - - [18/Aug/2018 18:49:49] \"\u001b[37mGET /api/v1/tiles/?d=a.11.2.2&s=J1zDk0u5QCeHk4896Mk0jw HTTP/1.1\u001b[0m\" 200 -\n",
      "127.0.0.1 - - [18/Aug/2018 18:49:49] \"\u001b[37mOPTIONS /api/v1/tiles/?d=a.10.0.0&d=a.10.0.1&d=a.10.1.1&s=J1zDk0u5QCeHk4896Mk0jw HTTP/1.1\u001b[0m\" 200 -\n",
      "127.0.0.1 - - [18/Aug/2018 18:49:49] \"\u001b[37mGET /api/v1/tiles/?d=a.10.0.0&d=a.10.0.1&d=a.10.1.1&s=J1zDk0u5QCeHk4896Mk0jw HTTP/1.1\u001b[0m\" 200 -\n",
      "127.0.0.1 - - [18/Aug/2018 18:49:53] \"\u001b[37mOPTIONS /api/v1/tiles/?d=a.10.0.2&d=a.10.1.2&s=J1zDk0u5QCeHk4896Mk0jw HTTP/1.1\u001b[0m\" 200 -\n",
      "127.0.0.1 - - [18/Aug/2018 18:49:53] \"\u001b[37mGET /api/v1/tiles/?d=a.10.0.2&d=a.10.1.2&s=J1zDk0u5QCeHk4896Mk0jw HTTP/1.1\u001b[0m\" 200 -\n",
      "127.0.0.1 - - [18/Aug/2018 18:49:53] \"\u001b[37mOPTIONS /api/v1/tiles/?d=a.10.2.2&d=a.10.0.3&d=a.10.1.3&d=a.10.2.3&s=J1zDk0u5QCeHk4896Mk0jw HTTP/1.1\u001b[0m\" 200 -\n",
      "127.0.0.1 - - [18/Aug/2018 18:49:54] \"\u001b[37mGET /api/v1/tiles/?d=a.10.2.2&d=a.10.0.3&d=a.10.1.3&d=a.10.2.3&s=J1zDk0u5QCeHk4896Mk0jw HTTP/1.1\u001b[0m\" 200 -\n",
      "127.0.0.1 - - [18/Aug/2018 18:49:54] \"\u001b[37mOPTIONS /api/v1/tiles/?d=a.9.0.0&d=a.9.0.1&d=a.9.1.1&d=a.9.0.2&d=a.9.1.2&s=J1zDk0u5QCeHk4896Mk0jw HTTP/1.1\u001b[0m\" 200 -\n",
      "127.0.0.1 - - [18/Aug/2018 18:49:54] \"\u001b[37mGET /api/v1/tiles/?d=a.9.0.0&d=a.9.0.1&d=a.9.1.1&d=a.9.0.2&d=a.9.1.2&s=J1zDk0u5QCeHk4896Mk0jw HTTP/1.1\u001b[0m\" 200 -\n",
      "127.0.0.1 - - [18/Aug/2018 18:49:55] \"\u001b[37mOPTIONS /api/v1/tiles/?d=a.8.0.0&d=a.8.0.1&d=a.8.1.1&d=a.8.0.2&d=a.8.1.2&s=J1zDk0u5QCeHk4896Mk0jw HTTP/1.1\u001b[0m\" 200 -\n",
      "127.0.0.1 - - [18/Aug/2018 18:49:55] \"\u001b[37mGET /api/v1/tiles/?d=a.8.0.0&d=a.8.0.1&d=a.8.1.1&d=a.8.0.2&d=a.8.1.2&s=J1zDk0u5QCeHk4896Mk0jw HTTP/1.1\u001b[0m\" 200 -\n",
      "127.0.0.1 - - [18/Aug/2018 18:49:56] \"\u001b[37mOPTIONS /api/v1/tiles/?d=a.7.0.0&d=a.7.0.1&d=a.7.1.1&s=J1zDk0u5QCeHk4896Mk0jw HTTP/1.1\u001b[0m\" 200 -\n",
      "127.0.0.1 - - [18/Aug/2018 18:49:56] \"\u001b[37mGET /api/v1/tiles/?d=a.7.0.0&d=a.7.0.1&d=a.7.1.1&s=J1zDk0u5QCeHk4896Mk0jw HTTP/1.1\u001b[0m\" 200 -\n",
      "127.0.0.1 - - [18/Aug/2018 18:49:57] \"\u001b[37mOPTIONS /api/v1/tiles/?d=a.7.0.2&d=a.7.1.2&d=a.7.0.3&d=a.7.1.3&d=a.6.0.0&d=a.6.0.1&d=a.6.1.1&d=a.6.0.2&d=a.6.1.2&s=J1zDk0u5QCeHk4896Mk0jw HTTP/1.1\u001b[0m\" 200 -\n",
      "127.0.0.1 - - [18/Aug/2018 18:49:57] \"\u001b[37mGET /api/v1/tiles/?d=a.7.0.2&d=a.7.1.2&d=a.7.0.3&d=a.7.1.3&d=a.6.0.0&d=a.6.0.1&d=a.6.1.1&d=a.6.0.2&d=a.6.1.2&s=J1zDk0u5QCeHk4896Mk0jw HTTP/1.1\u001b[0m\" 200 -\n",
      "127.0.0.1 - - [18/Aug/2018 18:49:58] \"\u001b[37mOPTIONS /api/v1/tiles/?d=a.5.0.0&d=a.5.0.1&d=a.5.1.1&d=a.5.0.2&d=a.5.1.2&d=a.4.0.0&d=a.4.0.1&d=a.4.1.1&s=J1zDk0u5QCeHk4896Mk0jw HTTP/1.1\u001b[0m\" 200 -\n",
      "127.0.0.1 - - [18/Aug/2018 18:49:58] \"\u001b[37mGET /api/v1/tiles/?d=a.5.0.0&d=a.5.0.1&d=a.5.1.1&d=a.5.0.2&d=a.5.1.2&d=a.4.0.0&d=a.4.0.1&d=a.4.1.1&s=J1zDk0u5QCeHk4896Mk0jw HTTP/1.1\u001b[0m\" 200 -\n",
      "127.0.0.1 - - [18/Aug/2018 18:49:59] \"\u001b[37mOPTIONS /api/v1/tiles/?d=a.4.0.2&d=a.4.1.2&d=a.4.0.3&d=a.4.1.3&s=J1zDk0u5QCeHk4896Mk0jw HTTP/1.1\u001b[0m\" 200 -\n",
      "127.0.0.1 - - [18/Aug/2018 18:49:59] \"\u001b[37mGET /api/v1/tiles/?d=a.4.0.2&d=a.4.1.2&d=a.4.0.3&d=a.4.1.3&s=J1zDk0u5QCeHk4896Mk0jw HTTP/1.1\u001b[0m\" 200 -\n",
      "127.0.0.1 - - [18/Aug/2018 18:50:01] \"\u001b[37mOPTIONS /api/v1/tiles/?d=a.4.0.2&d=a.4.1.2&d=a.4.2.2&d=a.4.2.3&d=a.3.0.0&d=a.3.0.1&d=a.3.1.1&d=a.3.0.2&d=a.3.1.2&s=J1zDk0u5QCeHk4896Mk0jw HTTP/1.1\u001b[0m\" 200 -\n",
      "127.0.0.1 - - [18/Aug/2018 18:50:01] \"\u001b[37mGET /api/v1/tiles/?d=a.4.0.2&d=a.4.1.2&d=a.4.2.2&d=a.4.2.3&d=a.3.0.0&d=a.3.0.1&d=a.3.1.1&d=a.3.0.2&d=a.3.1.2&s=J1zDk0u5QCeHk4896Mk0jw HTTP/1.1\u001b[0m\" 200 -\n",
      "127.0.0.1 - - [18/Aug/2018 18:50:01] \"\u001b[37mOPTIONS /api/v1/tiles/?d=a.3.0.3&d=a.3.1.3&d=a.2.0.0&d=a.2.0.1&d=a.2.1.1&d=a.2.0.2&d=a.2.1.2&s=J1zDk0u5QCeHk4896Mk0jw HTTP/1.1\u001b[0m\" 200 -\n",
      "127.0.0.1 - - [18/Aug/2018 18:50:01] \"\u001b[37mGET /api/v1/tiles/?d=a.3.0.3&d=a.3.1.3&d=a.2.0.0&d=a.2.0.1&d=a.2.1.1&d=a.2.0.2&d=a.2.1.2&s=J1zDk0u5QCeHk4896Mk0jw HTTP/1.1\u001b[0m\" 200 -\n",
      "127.0.0.1 - - [18/Aug/2018 18:50:02] \"\u001b[37mOPTIONS /api/v1/tiles/?d=a.2.0.2&d=a.2.1.2&d=a.2.2.2&d=a.2.0.3&d=a.2.1.3&d=a.2.2.3&s=J1zDk0u5QCeHk4896Mk0jw HTTP/1.1\u001b[0m\" 200 -\n",
      "127.0.0.1 - - [18/Aug/2018 18:50:02] \"\u001b[37mGET /api/v1/tiles/?d=a.2.0.2&d=a.2.1.2&d=a.2.2.2&d=a.2.0.3&d=a.2.1.3&d=a.2.2.3&s=J1zDk0u5QCeHk4896Mk0jw HTTP/1.1\u001b[0m\" 200 -\n",
      "127.0.0.1 - - [18/Aug/2018 18:50:02] \"\u001b[37mOPTIONS /api/v1/tiles/?d=a.2.0.3&d=a.2.1.3&d=a.2.2.3&d=a.2.3.3&s=J1zDk0u5QCeHk4896Mk0jw HTTP/1.1\u001b[0m\" 200 -\n",
      "127.0.0.1 - - [18/Aug/2018 18:50:03] \"\u001b[37mGET /api/v1/tiles/?d=a.2.0.3&d=a.2.1.3&d=a.2.2.3&d=a.2.3.3&s=J1zDk0u5QCeHk4896Mk0jw HTTP/1.1\u001b[0m\" 200 -\n",
      "127.0.0.1 - - [18/Aug/2018 18:50:08] \"\u001b[37mOPTIONS /api/v1/tiles/?d=a.3.0.0&d=a.3.0.1&d=a.3.1.1&d=a.3.0.2&d=a.3.1.2&d=a.3.0.3&d=a.3.1.3&s=J1zDk0u5QCeHk4896Mk0jw HTTP/1.1\u001b[0m\" 200 -\n",
      "127.0.0.1 - - [18/Aug/2018 18:50:08] \"\u001b[37mGET /api/v1/tiles/?d=a.3.0.0&d=a.3.0.1&d=a.3.1.1&d=a.3.0.2&d=a.3.1.2&d=a.3.0.3&d=a.3.1.3&s=J1zDk0u5QCeHk4896Mk0jw HTTP/1.1\u001b[0m\" 200 -\n",
      "127.0.0.1 - - [18/Aug/2018 18:50:09] \"\u001b[37mOPTIONS /api/v1/tiles/?d=a.4.0.0&d=a.4.0.1&d=a.4.1.1&d=a.4.0.2&d=a.4.1.2&d=a.4.0.3&d=a.4.1.3&s=J1zDk0u5QCeHk4896Mk0jw HTTP/1.1\u001b[0m\" 200 -\n",
      "127.0.0.1 - - [18/Aug/2018 18:50:09] \"\u001b[37mGET /api/v1/tiles/?d=a.4.0.0&d=a.4.0.1&d=a.4.1.1&d=a.4.0.2&d=a.4.1.2&d=a.4.0.3&d=a.4.1.3&s=J1zDk0u5QCeHk4896Mk0jw HTTP/1.1\u001b[0m\" 200 -\n",
      "127.0.0.1 - - [18/Aug/2018 18:50:10] \"\u001b[37mOPTIONS /api/v1/tiles/?d=a.5.0.0&d=a.5.0.1&d=a.5.1.1&d=a.5.0.2&d=a.5.1.2&d=a.5.0.3&d=a.5.1.3&s=J1zDk0u5QCeHk4896Mk0jw HTTP/1.1\u001b[0m\" 200 -\n",
      "127.0.0.1 - - [18/Aug/2018 18:50:10] \"\u001b[37mGET /api/v1/tiles/?d=a.5.0.0&d=a.5.0.1&d=a.5.1.1&d=a.5.0.2&d=a.5.1.2&d=a.5.0.3&d=a.5.1.3&s=J1zDk0u5QCeHk4896Mk0jw HTTP/1.1\u001b[0m\" 200 -\n",
      "127.0.0.1 - - [18/Aug/2018 18:50:11] \"\u001b[37mOPTIONS /api/v1/tiles/?d=a.6.0.0&d=a.6.0.1&d=a.6.1.1&d=a.6.0.2&d=a.6.1.2&s=J1zDk0u5QCeHk4896Mk0jw HTTP/1.1\u001b[0m\" 200 -\n",
      "127.0.0.1 - - [18/Aug/2018 18:50:11] \"\u001b[37mGET /api/v1/tiles/?d=a.6.0.0&d=a.6.0.1&d=a.6.1.1&d=a.6.0.2&d=a.6.1.2&s=J1zDk0u5QCeHk4896Mk0jw HTTP/1.1\u001b[0m\" 200 -\n",
      "127.0.0.1 - - [18/Aug/2018 18:50:11] \"\u001b[37mOPTIONS /api/v1/tiles/?d=a.7.0.0&d=a.7.0.1&d=a.7.1.1&d=a.7.0.2&d=a.7.1.2&s=J1zDk0u5QCeHk4896Mk0jw HTTP/1.1\u001b[0m\" 200 -\n",
      "127.0.0.1 - - [18/Aug/2018 18:50:11] \"\u001b[37mGET /api/v1/tiles/?d=a.7.0.0&d=a.7.0.1&d=a.7.1.1&d=a.7.0.2&d=a.7.1.2&s=J1zDk0u5QCeHk4896Mk0jw HTTP/1.1\u001b[0m\" 200 -\n",
      "127.0.0.1 - - [18/Aug/2018 18:50:13] \"\u001b[37mOPTIONS /api/v1/tiles/?d=a.8.0.0&d=a.8.0.1&d=a.8.1.1&d=a.8.0.2&d=a.8.1.2&d=a.9.0.0&d=a.9.0.1&d=a.9.1.1&d=a.9.0.2&d=a.9.1.2&s=J1zDk0u5QCeHk4896Mk0jw HTTP/1.1\u001b[0m\" 200 -\n",
      "127.0.0.1 - - [18/Aug/2018 18:50:13] \"\u001b[37mGET /api/v1/tiles/?d=a.8.0.0&d=a.8.0.1&d=a.8.1.1&d=a.8.0.2&d=a.8.1.2&d=a.9.0.0&d=a.9.0.1&d=a.9.1.1&d=a.9.0.2&d=a.9.1.2&s=J1zDk0u5QCeHk4896Mk0jw HTTP/1.1\u001b[0m\" 200 -\n",
      "127.0.0.1 - - [18/Aug/2018 18:50:13] \"\u001b[37mOPTIONS /api/v1/tiles/?d=a.10.0.0&d=a.10.0.1&d=a.10.1.1&d=a.10.0.2&d=a.10.1.2&s=J1zDk0u5QCeHk4896Mk0jw HTTP/1.1\u001b[0m\" 200 -\n"
     ]
    },
    {
     "name": "stderr",
     "output_type": "stream",
     "text": [
      "127.0.0.1 - - [18/Aug/2018 18:50:13] \"\u001b[37mGET /api/v1/tiles/?d=a.10.0.0&d=a.10.0.1&d=a.10.1.1&d=a.10.0.2&d=a.10.1.2&s=J1zDk0u5QCeHk4896Mk0jw HTTP/1.1\u001b[0m\" 200 -\n",
      "127.0.0.1 - - [18/Aug/2018 18:50:14] \"\u001b[37mOPTIONS /api/v1/tiles/?d=a.11.0.0&d=a.11.0.1&d=a.11.0.2&d=a.11.1.1&d=a.11.1.2&d=a.11.2.2&d=a.11.0.3&d=a.11.1.3&d=a.11.2.3&s=J1zDk0u5QCeHk4896Mk0jw HTTP/1.1\u001b[0m\" 200 -\n",
      "127.0.0.1 - - [18/Aug/2018 18:50:15] \"\u001b[37mGET /api/v1/tiles/?d=a.11.0.0&d=a.11.0.1&d=a.11.0.2&d=a.11.1.1&d=a.11.1.2&d=a.11.2.2&d=a.11.0.3&d=a.11.1.3&d=a.11.2.3&s=J1zDk0u5QCeHk4896Mk0jw HTTP/1.1\u001b[0m\" 200 -\n",
      "127.0.0.1 - - [18/Aug/2018 18:50:17] \"\u001b[37mOPTIONS /api/v1/tiles/?d=a.12.0.0&d=a.12.0.1&d=a.12.0.2&d=a.12.1.1&d=a.12.1.2&d=a.12.2.2&d=a.12.0.3&d=a.12.1.3&d=a.12.2.3&s=J1zDk0u5QCeHk4896Mk0jw HTTP/1.1\u001b[0m\" 200 -\n",
      "127.0.0.1 - - [18/Aug/2018 18:50:18] \"\u001b[37mGET /api/v1/tiles/?d=a.12.0.0&d=a.12.0.1&d=a.12.0.2&d=a.12.1.1&d=a.12.1.2&d=a.12.2.2&d=a.12.0.3&d=a.12.1.3&d=a.12.2.3&s=J1zDk0u5QCeHk4896Mk0jw HTTP/1.1\u001b[0m\" 200 -\n",
      "127.0.0.1 - - [18/Aug/2018 18:50:19] \"\u001b[37mOPTIONS /api/v1/tiles/?d=a.12.3.3&d=a.12.0.4&d=a.12.1.4&d=a.12.2.4&d=a.12.3.4&d=a.11.0.2&d=a.11.1.2&d=a.11.2.2&d=a.11.0.3&d=a.11.1.3&d=a.11.2.3&s=J1zDk0u5QCeHk4896Mk0jw HTTP/1.1\u001b[0m\" 200 -\n",
      "127.0.0.1 - - [18/Aug/2018 18:50:19] \"\u001b[37mGET /api/v1/tiles/?d=a.12.3.3&d=a.12.0.4&d=a.12.1.4&d=a.12.2.4&d=a.12.3.4&d=a.11.0.2&d=a.11.1.2&d=a.11.2.2&d=a.11.0.3&d=a.11.1.3&d=a.11.2.3&s=J1zDk0u5QCeHk4896Mk0jw HTTP/1.1\u001b[0m\" 200 -\n",
      "127.0.0.1 - - [18/Aug/2018 18:50:25] \"\u001b[37mOPTIONS /api/v1/tiles/?d=a.11.0.2&d=a.11.1.2&d=a.11.2.2&d=a.11.0.3&d=a.11.1.3&d=a.11.2.3&d=a.10.0.0&d=a.10.0.1&d=a.10.1.1&d=a.10.0.2&d=a.10.1.2&s=J1zDk0u5QCeHk4896Mk0jw HTTP/1.1\u001b[0m\" 200 -\n",
      "127.0.0.1 - - [18/Aug/2018 18:50:25] \"\u001b[37mGET /api/v1/tiles/?d=a.11.0.2&d=a.11.1.2&d=a.11.2.2&d=a.11.0.3&d=a.11.1.3&d=a.11.2.3&d=a.10.0.0&d=a.10.0.1&d=a.10.1.1&d=a.10.0.2&d=a.10.1.2&s=J1zDk0u5QCeHk4896Mk0jw HTTP/1.1\u001b[0m\" 200 -\n",
      "127.0.0.1 - - [18/Aug/2018 18:50:29] \"\u001b[37mOPTIONS /api/v1/tiles/?d=a.11.0.0&d=a.11.0.1&d=a.11.0.2&d=a.11.1.1&d=a.11.1.2&d=a.11.2.2&d=a.11.0.3&d=a.11.1.3&d=a.11.2.3&d=a.11.0.4&d=a.11.1.4&d=a.11.2.4&s=J1zDk0u5QCeHk4896Mk0jw HTTP/1.1\u001b[0m\" 200 -\n",
      "127.0.0.1 - - [18/Aug/2018 18:50:29] \"\u001b[37mGET /api/v1/tiles/?d=a.11.0.0&d=a.11.0.1&d=a.11.0.2&d=a.11.1.1&d=a.11.1.2&d=a.11.2.2&d=a.11.0.3&d=a.11.1.3&d=a.11.2.3&d=a.11.0.4&d=a.11.1.4&d=a.11.2.4&s=J1zDk0u5QCeHk4896Mk0jw HTTP/1.1\u001b[0m\" 200 -\n",
      "127.0.0.1 - - [18/Aug/2018 18:50:30] \"\u001b[37mOPTIONS /api/v1/tiles/?d=a.12.0.0&d=a.12.0.1&d=a.12.1.1&d=a.12.0.2&d=a.12.1.2&s=J1zDk0u5QCeHk4896Mk0jw HTTP/1.1\u001b[0m\" 200 -\n",
      "127.0.0.1 - - [18/Aug/2018 18:50:30] \"\u001b[37mGET /api/v1/tiles/?d=a.12.0.0&d=a.12.0.1&d=a.12.1.1&d=a.12.0.2&d=a.12.1.2&s=J1zDk0u5QCeHk4896Mk0jw HTTP/1.1\u001b[0m\" 200 -\n",
      "127.0.0.1 - - [18/Aug/2018 18:50:42] \"\u001b[37mOPTIONS /api/v1/tiles/?d=a.12.0.1&s=J1zDk0u5QCeHk4896Mk0jw HTTP/1.1\u001b[0m\" 200 -\n",
      "127.0.0.1 - - [18/Aug/2018 18:50:42] \"\u001b[37mGET /api/v1/tiles/?d=a.12.0.1&s=J1zDk0u5QCeHk4896Mk0jw HTTP/1.1\u001b[0m\" 200 -\n",
      "127.0.0.1 - - [18/Aug/2018 18:50:52] \"\u001b[37mOPTIONS /api/v1/tiles/?d=a.12.0.1&d=a.12.1.1&s=J1zDk0u5QCeHk4896Mk0jw HTTP/1.1\u001b[0m\" 200 -\n",
      "127.0.0.1 - - [18/Aug/2018 18:50:52] \"\u001b[37mGET /api/v1/tiles/?d=a.12.0.1&d=a.12.1.1&s=J1zDk0u5QCeHk4896Mk0jw HTTP/1.1\u001b[0m\" 200 -\n",
      "127.0.0.1 - - [18/Aug/2018 18:50:52] \"\u001b[37mOPTIONS /api/v1/tiles/?d=a.12.0.2&d=a.12.1.2&s=J1zDk0u5QCeHk4896Mk0jw HTTP/1.1\u001b[0m\" 200 -\n",
      "127.0.0.1 - - [18/Aug/2018 18:50:53] \"\u001b[37mGET /api/v1/tiles/?d=a.12.0.2&d=a.12.1.2&s=J1zDk0u5QCeHk4896Mk0jw HTTP/1.1\u001b[0m\" 200 -\n",
      "127.0.0.1 - - [18/Aug/2018 18:50:53] \"\u001b[37mOPTIONS /api/v1/tiles/?d=a.12.2.2&s=J1zDk0u5QCeHk4896Mk0jw HTTP/1.1\u001b[0m\" 200 -\n",
      "127.0.0.1 - - [18/Aug/2018 18:50:53] \"\u001b[37mGET /api/v1/tiles/?d=a.12.2.2&s=J1zDk0u5QCeHk4896Mk0jw HTTP/1.1\u001b[0m\" 200 -\n",
      "127.0.0.1 - - [18/Aug/2018 18:50:54] \"\u001b[37mOPTIONS /api/v1/tiles/?d=a.12.0.3&d=a.12.1.3&d=a.12.2.3&s=J1zDk0u5QCeHk4896Mk0jw HTTP/1.1\u001b[0m\" 200 -\n",
      "127.0.0.1 - - [18/Aug/2018 18:50:55] \"\u001b[37mGET /api/v1/tiles/?d=a.12.0.3&d=a.12.1.3&d=a.12.2.3&s=J1zDk0u5QCeHk4896Mk0jw HTTP/1.1\u001b[0m\" 200 -\n",
      "127.0.0.1 - - [18/Aug/2018 18:50:55] \"\u001b[37mOPTIONS /api/v1/tiles/?d=a.12.3.3&s=J1zDk0u5QCeHk4896Mk0jw HTTP/1.1\u001b[0m\" 200 -\n",
      "127.0.0.1 - - [18/Aug/2018 18:50:55] \"\u001b[37mGET /api/v1/tiles/?d=a.12.3.3&s=J1zDk0u5QCeHk4896Mk0jw HTTP/1.1\u001b[0m\" 200 -\n",
      "127.0.0.1 - - [18/Aug/2018 18:50:58] \"\u001b[37mOPTIONS /api/v1/tiles/?d=a.12.1.4&d=a.12.2.4&d=a.12.3.4&s=J1zDk0u5QCeHk4896Mk0jw HTTP/1.1\u001b[0m\" 200 -\n",
      "127.0.0.1 - - [18/Aug/2018 18:50:58] \"\u001b[37mGET /api/v1/tiles/?d=a.12.1.4&d=a.12.2.4&d=a.12.3.4&s=J1zDk0u5QCeHk4896Mk0jw HTTP/1.1\u001b[0m\" 200 -\n",
      "127.0.0.1 - - [18/Aug/2018 18:51:00] \"\u001b[37mOPTIONS /api/v1/tiles/?d=a.11.0.0&d=a.11.0.1&d=a.11.0.2&d=a.11.1.1&d=a.11.1.2&d=a.11.2.2&s=J1zDk0u5QCeHk4896Mk0jw HTTP/1.1\u001b[0m\" 200 -\n",
      "127.0.0.1 - - [18/Aug/2018 18:51:01] \"\u001b[37mGET /api/v1/tiles/?d=a.11.0.0&d=a.11.0.1&d=a.11.0.2&d=a.11.1.1&d=a.11.1.2&d=a.11.2.2&s=J1zDk0u5QCeHk4896Mk0jw HTTP/1.1\u001b[0m\" 200 -\n",
      "127.0.0.1 - - [18/Aug/2018 18:51:12] \"\u001b[37mOPTIONS /api/v1/tiles/?d=a.12.0.0&d=a.12.0.1&d=a.12.0.2&d=a.12.1.1&d=a.12.1.2&d=a.12.2.2&s=J1zDk0u5QCeHk4896Mk0jw HTTP/1.1\u001b[0m\" 200 -\n",
      "127.0.0.1 - - [18/Aug/2018 18:51:12] \"\u001b[37mGET /api/v1/tiles/?d=a.12.0.0&d=a.12.0.1&d=a.12.0.2&d=a.12.1.1&d=a.12.1.2&d=a.12.2.2&s=J1zDk0u5QCeHk4896Mk0jw HTTP/1.1\u001b[0m\" 200 -\n",
      "127.0.0.1 - - [18/Aug/2018 18:51:31] \"\u001b[37mOPTIONS /api/v1/tiles/?d=a.12.0.1&d=a.12.1.1&s=J1zDk0u5QCeHk4896Mk0jw HTTP/1.1\u001b[0m\" 200 -\n",
      "127.0.0.1 - - [18/Aug/2018 18:51:32] \"\u001b[37mGET /api/v1/tiles/?d=a.12.0.1&d=a.12.1.1&s=J1zDk0u5QCeHk4896Mk0jw HTTP/1.1\u001b[0m\" 200 -\n",
      "127.0.0.1 - - [18/Aug/2018 18:51:33] \"\u001b[37mOPTIONS /api/v1/tiles/?d=a.12.0.2&d=a.12.1.2&s=J1zDk0u5QCeHk4896Mk0jw HTTP/1.1\u001b[0m\" 200 -\n",
      "127.0.0.1 - - [18/Aug/2018 18:51:34] \"\u001b[37mGET /api/v1/tiles/?d=a.12.0.2&d=a.12.1.2&s=J1zDk0u5QCeHk4896Mk0jw HTTP/1.1\u001b[0m\" 200 -\n",
      "127.0.0.1 - - [18/Aug/2018 18:51:34] \"\u001b[37mOPTIONS /api/v1/tiles/?d=a.11.0.0&d=a.11.0.1&d=a.11.1.1&s=J1zDk0u5QCeHk4896Mk0jw HTTP/1.1\u001b[0m\" 200 -\n",
      "127.0.0.1 - - [18/Aug/2018 18:51:34] \"\u001b[37mGET /api/v1/tiles/?d=a.11.0.0&d=a.11.0.1&d=a.11.1.1&s=J1zDk0u5QCeHk4896Mk0jw HTTP/1.1\u001b[0m\" 200 -\n",
      "127.0.0.1 - - [18/Aug/2018 18:51:35] \"\u001b[37mOPTIONS /api/v1/tiles/?d=a.11.0.2&d=a.11.1.2&s=J1zDk0u5QCeHk4896Mk0jw HTTP/1.1\u001b[0m\" 200 -\n",
      "127.0.0.1 - - [18/Aug/2018 18:51:35] \"\u001b[37mGET /api/v1/tiles/?d=a.11.0.2&d=a.11.1.2&s=J1zDk0u5QCeHk4896Mk0jw HTTP/1.1\u001b[0m\" 200 -\n",
      "127.0.0.1 - - [18/Aug/2018 18:51:37] \"\u001b[37mOPTIONS /api/v1/tiles/?d=a.11.0.2&d=a.11.1.2&d=a.11.2.2&s=J1zDk0u5QCeHk4896Mk0jw HTTP/1.1\u001b[0m\" 200 -\n",
      "127.0.0.1 - - [18/Aug/2018 18:51:37] \"\u001b[37mGET /api/v1/tiles/?d=a.11.0.2&d=a.11.1.2&d=a.11.2.2&s=J1zDk0u5QCeHk4896Mk0jw HTTP/1.1\u001b[0m\" 200 -\n",
      "127.0.0.1 - - [18/Aug/2018 18:51:38] \"\u001b[37mOPTIONS /api/v1/tiles/?d=a.11.0.3&d=a.11.1.3&d=a.11.2.3&s=J1zDk0u5QCeHk4896Mk0jw HTTP/1.1\u001b[0m\" 200 -\n",
      "127.0.0.1 - - [18/Aug/2018 18:51:38] \"\u001b[37mGET /api/v1/tiles/?d=a.11.0.3&d=a.11.1.3&d=a.11.2.3&s=J1zDk0u5QCeHk4896Mk0jw HTTP/1.1\u001b[0m\" 200 -\n",
      "127.0.0.1 - - [18/Aug/2018 18:52:03] \"\u001b[37mOPTIONS /api/v1/tiles/?d=a.12.0.2&d=a.12.1.2&d=a.12.0.3&d=a.12.1.3&d=a.12.0.4&d=a.12.1.4&s=J1zDk0u5QCeHk4896Mk0jw HTTP/1.1\u001b[0m\" 200 -\n",
      "127.0.0.1 - - [18/Aug/2018 18:52:03] \"\u001b[37mGET /api/v1/tiles/?d=a.12.0.2&d=a.12.1.2&d=a.12.0.3&d=a.12.1.3&d=a.12.0.4&d=a.12.1.4&s=J1zDk0u5QCeHk4896Mk0jw HTTP/1.1\u001b[0m\" 200 -\n",
      "127.0.0.1 - - [18/Aug/2018 18:52:07] \"\u001b[37mOPTIONS /api/v1/tiles/?d=a.12.0.4&s=J1zDk0u5QCeHk4896Mk0jw HTTP/1.1\u001b[0m\" 200 -\n",
      "127.0.0.1 - - [18/Aug/2018 18:52:07] \"\u001b[37mGET /api/v1/tiles/?d=a.12.0.4&s=J1zDk0u5QCeHk4896Mk0jw HTTP/1.1\u001b[0m\" 200 -\n",
      "127.0.0.1 - - [18/Aug/2018 18:52:07] \"\u001b[37mOPTIONS /api/v1/tiles/?d=a.12.0.1&s=J1zDk0u5QCeHk4896Mk0jw HTTP/1.1\u001b[0m\" 200 -\n",
      "127.0.0.1 - - [18/Aug/2018 18:52:08] \"\u001b[37mGET /api/v1/tiles/?d=a.12.0.1&s=J1zDk0u5QCeHk4896Mk0jw HTTP/1.1\u001b[0m\" 200 -\n",
      "127.0.0.1 - - [18/Aug/2018 18:52:08] \"\u001b[37mOPTIONS /api/v1/tiles/?d=a.12.1.2&d=a.12.1.3&d=a.12.1.4&s=J1zDk0u5QCeHk4896Mk0jw HTTP/1.1\u001b[0m\" 200 -\n",
      "127.0.0.1 - - [18/Aug/2018 18:52:08] \"\u001b[37mGET /api/v1/tiles/?d=a.12.1.2&d=a.12.1.3&d=a.12.1.4&s=J1zDk0u5QCeHk4896Mk0jw HTTP/1.1\u001b[0m\" 200 -\n",
      "127.0.0.1 - - [18/Aug/2018 18:52:09] \"\u001b[37mOPTIONS /api/v1/tiles/?d=a.12.0.1&d=a.12.1.1&d=a.12.1.2&d=a.12.2.2&d=a.12.2.3&d=a.12.2.4&s=J1zDk0u5QCeHk4896Mk0jw HTTP/1.1\u001b[0m\" 200 -\n",
      "127.0.0.1 - - [18/Aug/2018 18:52:12] \"\u001b[37mGET /api/v1/tiles/?d=a.12.0.1&d=a.12.1.1&d=a.12.1.2&d=a.12.2.2&d=a.12.2.3&d=a.12.2.4&s=J1zDk0u5QCeHk4896Mk0jw HTTP/1.1\u001b[0m\" 200 -\n"
     ]
    },
    {
     "name": "stderr",
     "output_type": "stream",
     "text": [
      "127.0.0.1 - - [18/Aug/2018 18:52:12] \"\u001b[37mOPTIONS /api/v1/tiles/?d=a.12.0.0&d=a.12.0.2&d=a.12.0.3&d=a.12.1.3&d=a.12.3.3&d=a.12.3.4&s=J1zDk0u5QCeHk4896Mk0jw HTTP/1.1\u001b[0m\" 200 -\n",
      "127.0.0.1 - - [18/Aug/2018 18:52:14] \"\u001b[37mGET /api/v1/tiles/?d=a.12.0.0&d=a.12.0.2&d=a.12.0.3&d=a.12.1.3&d=a.12.3.3&d=a.12.3.4&s=J1zDk0u5QCeHk4896Mk0jw HTTP/1.1\u001b[0m\" 200 -\n",
      "127.0.0.1 - - [18/Aug/2018 18:52:14] \"\u001b[37mOPTIONS /api/v1/tiles/?d=a.12.0.5&d=a.12.1.5&d=a.12.2.5&d=a.12.3.5&s=J1zDk0u5QCeHk4896Mk0jw HTTP/1.1\u001b[0m\" 200 -\n",
      "127.0.0.1 - - [18/Aug/2018 18:52:14] \"\u001b[37mOPTIONS /api/v1/tiles/?d=a.12.0.4&d=a.12.1.4&d=a.12.2.4&d=a.12.4.4&s=J1zDk0u5QCeHk4896Mk0jw HTTP/1.1\u001b[0m\" 200 -\n",
      "127.0.0.1 - - [18/Aug/2018 18:52:14] \"\u001b[37mGET /api/v1/tiles/?d=a.12.0.5&d=a.12.1.5&d=a.12.2.5&d=a.12.3.5&s=J1zDk0u5QCeHk4896Mk0jw HTTP/1.1\u001b[0m\" 200 -\n",
      "127.0.0.1 - - [18/Aug/2018 18:52:15] \"\u001b[37mGET /api/v1/tiles/?d=a.12.0.4&d=a.12.1.4&d=a.12.2.4&d=a.12.4.4&s=J1zDk0u5QCeHk4896Mk0jw HTTP/1.1\u001b[0m\" 200 -\n",
      "127.0.0.1 - - [18/Aug/2018 18:52:15] \"\u001b[37mOPTIONS /api/v1/tiles/?d=a.11.0.1&d=a.11.0.2&d=a.11.0.3&d=a.11.1.1&d=a.11.1.2&d=a.11.1.3&d=a.11.2.2&d=a.11.2.3&s=J1zDk0u5QCeHk4896Mk0jw HTTP/1.1\u001b[0m\" 200 -\n",
      "127.0.0.1 - - [18/Aug/2018 18:52:16] \"\u001b[37mGET /api/v1/tiles/?d=a.11.0.1&d=a.11.0.2&d=a.11.0.3&d=a.11.1.1&d=a.11.1.2&d=a.11.1.3&d=a.11.2.2&d=a.11.2.3&s=J1zDk0u5QCeHk4896Mk0jw HTTP/1.1\u001b[0m\" 200 -\n",
      "127.0.0.1 - - [18/Aug/2018 18:52:18] \"\u001b[37mOPTIONS /api/v1/tiles/?d=a.11.0.0&d=a.11.0.1&d=a.11.0.2&s=J1zDk0u5QCeHk4896Mk0jw HTTP/1.1\u001b[0m\" 200 -\n",
      "127.0.0.1 - - [18/Aug/2018 18:52:19] \"\u001b[37mGET /api/v1/tiles/?d=a.11.0.0&d=a.11.0.1&d=a.11.0.2&s=J1zDk0u5QCeHk4896Mk0jw HTTP/1.1\u001b[0m\" 200 -\n",
      "127.0.0.1 - - [18/Aug/2018 18:52:28] \"\u001b[37mOPTIONS /api/v1/tiles/?d=a.11.0.2&d=a.11.1.2&d=a.11.2.2&s=J1zDk0u5QCeHk4896Mk0jw HTTP/1.1\u001b[0m\" 200 -\n",
      "127.0.0.1 - - [18/Aug/2018 18:52:28] \"\u001b[37mGET /api/v1/tiles/?d=a.11.0.2&d=a.11.1.2&d=a.11.2.2&s=J1zDk0u5QCeHk4896Mk0jw HTTP/1.1\u001b[0m\" 200 -\n",
      "127.0.0.1 - - [18/Aug/2018 18:54:14] \"\u001b[37mOPTIONS /api/v1/tiles/?d=a.11.0.2&d=a.11.1.2&d=a.11.2.2&d=a.11.0.3&d=a.11.1.3&d=a.11.2.3&s=J1zDk0u5QCeHk4896Mk0jw HTTP/1.1\u001b[0m\" 200 -\n",
      "127.0.0.1 - - [18/Aug/2018 18:54:15] \"\u001b[37mGET /api/v1/tiles/?d=a.11.0.2&d=a.11.1.2&d=a.11.2.2&d=a.11.0.3&d=a.11.1.3&d=a.11.2.3&s=J1zDk0u5QCeHk4896Mk0jw HTTP/1.1\u001b[0m\" 200 -\n",
      "127.0.0.1 - - [18/Aug/2018 18:54:23] \"\u001b[37mOPTIONS /api/v1/tiles/?d=a.11.0.2&d=a.11.1.2&d=a.11.2.2&s=J1zDk0u5QCeHk4896Mk0jw HTTP/1.1\u001b[0m\" 200 -\n",
      "127.0.0.1 - - [18/Aug/2018 18:54:23] \"\u001b[37mGET /api/v1/tiles/?d=a.11.0.2&d=a.11.1.2&d=a.11.2.2&s=J1zDk0u5QCeHk4896Mk0jw HTTP/1.1\u001b[0m\" 200 -\n",
      "127.0.0.1 - - [18/Aug/2018 18:54:23] \"\u001b[37mOPTIONS /api/v1/tiles/?d=a.10.0.0&d=a.10.0.1&d=a.10.1.1&s=J1zDk0u5QCeHk4896Mk0jw HTTP/1.1\u001b[0m\" 200 -\n",
      "127.0.0.1 - - [18/Aug/2018 18:54:24] \"\u001b[37mGET /api/v1/tiles/?d=a.10.0.0&d=a.10.0.1&d=a.10.1.1&s=J1zDk0u5QCeHk4896Mk0jw HTTP/1.1\u001b[0m\" 200 -\n",
      "127.0.0.1 - - [18/Aug/2018 18:54:24] \"\u001b[37mOPTIONS /api/v1/tiles/?d=a.12.0.0&d=a.12.0.1&d=a.12.0.2&d=a.12.0.3&d=a.12.1.1&d=a.12.1.2&d=a.12.1.3&d=a.12.2.2&d=a.12.2.3&d=a.12.3.3&d=a.12.0.4&d=a.12.1.4&d=a.12.2.4&d=a.12.3.4&s=J1zDk0u5QCeHk4896Mk0jw HTTP/1.1\u001b[0m\" 200 -\n",
      "127.0.0.1 - - [18/Aug/2018 18:54:25] \"\u001b[37mGET /api/v1/tiles/?d=a.12.0.0&d=a.12.0.1&d=a.12.0.2&d=a.12.0.3&d=a.12.1.1&d=a.12.1.2&d=a.12.1.3&d=a.12.2.2&d=a.12.2.3&d=a.12.3.3&d=a.12.0.4&d=a.12.1.4&d=a.12.2.4&d=a.12.3.4&s=J1zDk0u5QCeHk4896Mk0jw HTTP/1.1\u001b[0m\" 200 -\n",
      "127.0.0.1 - - [18/Aug/2018 18:54:27] \"\u001b[37mOPTIONS /api/v1/tiles/?d=a.11.0.0&d=a.11.0.1&d=a.11.0.2&d=a.11.1.1&d=a.11.1.2&d=a.11.2.2&d=a.10.0.0&d=a.10.0.1&d=a.10.1.1&s=J1zDk0u5QCeHk4896Mk0jw HTTP/1.1\u001b[0m\" 200 -\n",
      "127.0.0.1 - - [18/Aug/2018 18:54:27] \"\u001b[37mGET /api/v1/tiles/?d=a.11.0.0&d=a.11.0.1&d=a.11.0.2&d=a.11.1.1&d=a.11.1.2&d=a.11.2.2&d=a.10.0.0&d=a.10.0.1&d=a.10.1.1&s=J1zDk0u5QCeHk4896Mk0jw HTTP/1.1\u001b[0m\" 200 -\n",
      "127.0.0.1 - - [18/Aug/2018 18:54:31] \"\u001b[37mOPTIONS /api/v1/tiles/?d=a.10.0.2&d=a.10.1.2&s=J1zDk0u5QCeHk4896Mk0jw HTTP/1.1\u001b[0m\" 200 -\n",
      "127.0.0.1 - - [18/Aug/2018 18:54:31] \"\u001b[37mGET /api/v1/tiles/?d=a.10.0.2&d=a.10.1.2&s=J1zDk0u5QCeHk4896Mk0jw HTTP/1.1\u001b[0m\" 200 -\n",
      "127.0.0.1 - - [18/Aug/2018 18:54:54] \"\u001b[37mOPTIONS /api/v1/tiles/?d=a.10.0.2&d=a.10.1.2&d=a.10.2.2&d=a.10.0.3&d=a.10.1.3&d=a.10.2.3&d=a.9.0.0&d=a.9.0.1&d=a.9.1.1&d=a.9.0.2&d=a.9.1.2&s=J1zDk0u5QCeHk4896Mk0jw HTTP/1.1\u001b[0m\" 200 -\n",
      "127.0.0.1 - - [18/Aug/2018 18:54:54] \"\u001b[37mGET /api/v1/tiles/?d=a.10.0.2&d=a.10.1.2&d=a.10.2.2&d=a.10.0.3&d=a.10.1.3&d=a.10.2.3&d=a.9.0.0&d=a.9.0.1&d=a.9.1.1&d=a.9.0.2&d=a.9.1.2&s=J1zDk0u5QCeHk4896Mk0jw HTTP/1.1\u001b[0m\" 200 -\n",
      "127.0.0.1 - - [18/Aug/2018 18:54:54] \"\u001b[37mOPTIONS /api/v1/tiles/?d=a.11.0.0&d=a.11.0.1&d=a.11.0.2&d=a.11.1.1&d=a.11.1.2&d=a.11.2.2&d=a.11.0.3&d=a.11.1.3&d=a.11.2.3&d=a.11.0.4&d=a.11.1.4&d=a.11.2.4&s=J1zDk0u5QCeHk4896Mk0jw HTTP/1.1\u001b[0m\" 200 -\n",
      "127.0.0.1 - - [18/Aug/2018 18:54:55] \"\u001b[37mGET /api/v1/tiles/?d=a.11.0.0&d=a.11.0.1&d=a.11.0.2&d=a.11.1.1&d=a.11.1.2&d=a.11.2.2&d=a.11.0.3&d=a.11.1.3&d=a.11.2.3&d=a.11.0.4&d=a.11.1.4&d=a.11.2.4&s=J1zDk0u5QCeHk4896Mk0jw HTTP/1.1\u001b[0m\" 200 -\n",
      "127.0.0.1 - - [18/Aug/2018 19:17:46] \"\u001b[37mOPTIONS /api/v1/tiles/?d=a.10.0.0&d=a.10.0.1&d=a.10.1.1&s=J1zDk0u5QCeHk4896Mk0jw HTTP/1.1\u001b[0m\" 200 -\n",
      "127.0.0.1 - - [18/Aug/2018 19:17:46] \"\u001b[37mGET /api/v1/tiles/?d=a.10.0.0&d=a.10.0.1&d=a.10.1.1&s=J1zDk0u5QCeHk4896Mk0jw HTTP/1.1\u001b[0m\" 200 -\n",
      "127.0.0.1 - - [18/Aug/2018 19:17:57] \"\u001b[37mOPTIONS /api/v1/tiles/?d=a.12.0.0&d=a.12.0.1&d=a.12.0.2&d=a.12.1.1&d=a.12.1.2&d=a.12.2.2&s=J1zDk0u5QCeHk4896Mk0jw HTTP/1.1\u001b[0m\" 200 -\n",
      "127.0.0.1 - - [18/Aug/2018 19:17:58] \"\u001b[37mGET /api/v1/tiles/?d=a.12.0.0&d=a.12.0.1&d=a.12.0.2&d=a.12.1.1&d=a.12.1.2&d=a.12.2.2&s=J1zDk0u5QCeHk4896Mk0jw HTTP/1.1\u001b[0m\" 200 -\n",
      "127.0.0.1 - - [18/Aug/2018 19:18:10] \"\u001b[37mOPTIONS /api/v1/tiles/?d=a.12.0.2&d=a.12.1.2&d=a.12.2.2&s=J1zDk0u5QCeHk4896Mk0jw HTTP/1.1\u001b[0m\" 200 -\n",
      "127.0.0.1 - - [18/Aug/2018 19:18:10] \"\u001b[37mGET /api/v1/tiles/?d=a.12.0.2&d=a.12.1.2&d=a.12.2.2&s=J1zDk0u5QCeHk4896Mk0jw HTTP/1.1\u001b[0m\" 200 -\n",
      "127.0.0.1 - - [18/Aug/2018 22:21:56] \"\u001b[37mOPTIONS /api/v1/tiles/?d=a.12.0.1&d=a.12.1.1&s=J1zDk0u5QCeHk4896Mk0jw HTTP/1.1\u001b[0m\" 200 -\n",
      "127.0.0.1 - - [18/Aug/2018 22:21:57] \"\u001b[37mGET /api/v1/tiles/?d=a.12.0.1&d=a.12.1.1&s=J1zDk0u5QCeHk4896Mk0jw HTTP/1.1\u001b[0m\" 200 -\n",
      "127.0.0.1 - - [18/Aug/2018 22:22:13] \"\u001b[37mOPTIONS /api/v1/tiles/?d=a.12.0.1&s=J1zDk0u5QCeHk4896Mk0jw HTTP/1.1\u001b[0m\" 200 -\n",
      "127.0.0.1 - - [18/Aug/2018 22:22:14] \"\u001b[37mGET /api/v1/tiles/?d=a.12.0.1&s=J1zDk0u5QCeHk4896Mk0jw HTTP/1.1\u001b[0m\" 200 -\n",
      "127.0.0.1 - - [18/Aug/2018 22:31:01] \"\u001b[37mOPTIONS /api/v1/tiles/?d=a.12.0.1&d=a.12.1.1&s=J1zDk0u5QCeHk4896Mk0jw HTTP/1.1\u001b[0m\" 200 -\n",
      "127.0.0.1 - - [18/Aug/2018 22:31:01] \"\u001b[37mGET /api/v1/tiles/?d=a.12.0.1&d=a.12.1.1&s=J1zDk0u5QCeHk4896Mk0jw HTTP/1.1\u001b[0m\" 200 -\n",
      "127.0.0.1 - - [18/Aug/2018 22:31:15] \"\u001b[37mOPTIONS /api/v1/tiles/?d=a.12.0.1&s=J1zDk0u5QCeHk4896Mk0jw HTTP/1.1\u001b[0m\" 200 -\n",
      "127.0.0.1 - - [18/Aug/2018 22:31:15] \"\u001b[37mGET /api/v1/tiles/?d=a.12.0.1&s=J1zDk0u5QCeHk4896Mk0jw HTTP/1.1\u001b[0m\" 200 -\n",
      "127.0.0.1 - - [18/Aug/2018 22:31:20] \"\u001b[37mOPTIONS /api/v1/tiles/?d=a.12.0.1&d=a.12.1.1&s=J1zDk0u5QCeHk4896Mk0jw HTTP/1.1\u001b[0m\" 200 -\n",
      "127.0.0.1 - - [18/Aug/2018 22:31:20] \"\u001b[37mGET /api/v1/tiles/?d=a.12.0.1&d=a.12.1.1&s=J1zDk0u5QCeHk4896Mk0jw HTTP/1.1\u001b[0m\" 200 -\n",
      "127.0.0.1 - - [18/Aug/2018 22:31:23] \"\u001b[37mOPTIONS /api/v1/tiles/?d=a.12.0.1&d=a.12.1.1&d=a.12.0.2&d=a.12.1.2&s=J1zDk0u5QCeHk4896Mk0jw HTTP/1.1\u001b[0m\" 200 -\n",
      "127.0.0.1 - - [18/Aug/2018 22:31:24] \"\u001b[37mGET /api/v1/tiles/?d=a.12.0.1&d=a.12.1.1&d=a.12.0.2&d=a.12.1.2&s=J1zDk0u5QCeHk4896Mk0jw HTTP/1.1\u001b[0m\" 200 -\n",
      "127.0.0.1 - - [18/Aug/2018 22:31:31] \"\u001b[37mOPTIONS /api/v1/tiles/?d=a.12.0.0&d=a.12.0.1&d=a.12.0.2&d=a.12.1.2&s=J1zDk0u5QCeHk4896Mk0jw HTTP/1.1\u001b[0m\" 200 -\n",
      "127.0.0.1 - - [18/Aug/2018 22:31:32] \"\u001b[37mGET /api/v1/tiles/?d=a.12.0.0&d=a.12.0.1&d=a.12.0.2&d=a.12.1.2&s=J1zDk0u5QCeHk4896Mk0jw HTTP/1.1\u001b[0m\" 200 -\n",
      "127.0.0.1 - - [18/Aug/2018 22:31:32] \"\u001b[37mOPTIONS /api/v1/tiles/?d=a.12.0.3&d=a.12.1.3&s=J1zDk0u5QCeHk4896Mk0jw HTTP/1.1\u001b[0m\" 200 -\n",
      "127.0.0.1 - - [18/Aug/2018 22:31:32] \"\u001b[37mGET /api/v1/tiles/?d=a.12.0.3&d=a.12.1.3&s=J1zDk0u5QCeHk4896Mk0jw HTTP/1.1\u001b[0m\" 200 -\n",
      "127.0.0.1 - - [18/Aug/2018 22:31:32] \"\u001b[37mOPTIONS /api/v1/tiles/?d=a.12.2.2&d=a.12.2.3&s=J1zDk0u5QCeHk4896Mk0jw HTTP/1.1\u001b[0m\" 200 -\n",
      "127.0.0.1 - - [18/Aug/2018 22:31:33] \"\u001b[37mGET /api/v1/tiles/?d=a.12.2.2&d=a.12.2.3&s=J1zDk0u5QCeHk4896Mk0jw HTTP/1.1\u001b[0m\" 200 -\n"
     ]
    },
    {
     "name": "stderr",
     "output_type": "stream",
     "text": [
      "127.0.0.1 - - [18/Aug/2018 22:31:34] \"\u001b[37mOPTIONS /api/v1/tiles/?d=a.11.0.0&d=a.11.0.1&d=a.11.1.1&d=a.11.0.2&d=a.11.1.2&s=J1zDk0u5QCeHk4896Mk0jw HTTP/1.1\u001b[0m\" 200 -\n",
      "127.0.0.1 - - [18/Aug/2018 22:31:34] \"\u001b[37mGET /api/v1/tiles/?d=a.11.0.0&d=a.11.0.1&d=a.11.1.1&d=a.11.0.2&d=a.11.1.2&s=J1zDk0u5QCeHk4896Mk0jw HTTP/1.1\u001b[0m\" 200 -\n",
      "127.0.0.1 - - [18/Aug/2018 22:31:54] \"\u001b[37mOPTIONS /api/v1/tiles/?d=a.12.0.0&d=a.12.0.1&d=a.12.0.2&d=a.12.1.1&d=a.12.1.2&d=a.12.2.2&d=a.12.0.3&d=a.12.1.3&d=a.12.2.3&d=a.12.0.4&d=a.12.1.4&d=a.12.2.4&s=J1zDk0u5QCeHk4896Mk0jw HTTP/1.1\u001b[0m\" 200 -\n",
      "127.0.0.1 - - [18/Aug/2018 22:31:55] \"\u001b[37mGET /api/v1/tiles/?d=a.12.0.0&d=a.12.0.1&d=a.12.0.2&d=a.12.1.1&d=a.12.1.2&d=a.12.2.2&d=a.12.0.3&d=a.12.1.3&d=a.12.2.3&d=a.12.0.4&d=a.12.1.4&d=a.12.2.4&s=J1zDk0u5QCeHk4896Mk0jw HTTP/1.1\u001b[0m\" 200 -\n",
      "127.0.0.1 - - [18/Aug/2018 22:32:51] \"\u001b[37mOPTIONS /api/v1/tiles/?d=a.11.0.0&d=a.11.0.1&d=a.11.1.1&d=a.11.0.2&d=a.11.1.2&d=a.11.0.3&d=a.11.1.3&s=J1zDk0u5QCeHk4896Mk0jw HTTP/1.1\u001b[0m\" 200 -\n",
      "127.0.0.1 - - [18/Aug/2018 22:32:52] \"\u001b[37mGET /api/v1/tiles/?d=a.11.0.0&d=a.11.0.1&d=a.11.1.1&d=a.11.0.2&d=a.11.1.2&d=a.11.0.3&d=a.11.1.3&s=J1zDk0u5QCeHk4896Mk0jw HTTP/1.1\u001b[0m\" 200 -\n",
      "127.0.0.1 - - [18/Aug/2018 22:33:05] \"\u001b[37mOPTIONS /api/v1/tiles/?d=a.10.0.0&d=a.10.0.1&d=a.10.1.1&d=a.10.0.2&d=a.10.1.2&s=J1zDk0u5QCeHk4896Mk0jw HTTP/1.1\u001b[0m\" 200 -\n",
      "127.0.0.1 - - [18/Aug/2018 22:33:05] \"\u001b[37mGET /api/v1/tiles/?d=a.10.0.0&d=a.10.0.1&d=a.10.1.1&d=a.10.0.2&d=a.10.1.2&s=J1zDk0u5QCeHk4896Mk0jw HTTP/1.1\u001b[0m\" 200 -\n",
      "127.0.0.1 - - [18/Aug/2018 22:33:12] \"\u001b[37mOPTIONS /api/v1/tiles/?d=a.11.0.0&d=a.11.0.1&d=a.11.0.2&d=a.11.1.1&d=a.11.1.2&d=a.11.2.2&d=a.11.0.3&d=a.11.1.3&d=a.11.2.3&d=a.11.0.4&d=a.11.1.4&d=a.11.2.4&s=J1zDk0u5QCeHk4896Mk0jw HTTP/1.1\u001b[0m\" 200 -\n",
      "127.0.0.1 - - [18/Aug/2018 22:33:13] \"\u001b[37mGET /api/v1/tiles/?d=a.11.0.0&d=a.11.0.1&d=a.11.0.2&d=a.11.1.1&d=a.11.1.2&d=a.11.2.2&d=a.11.0.3&d=a.11.1.3&d=a.11.2.3&d=a.11.0.4&d=a.11.1.4&d=a.11.2.4&s=J1zDk0u5QCeHk4896Mk0jw HTTP/1.1\u001b[0m\" 200 -\n",
      "127.0.0.1 - - [18/Aug/2018 22:33:13] \"\u001b[37mOPTIONS /api/v1/tiles/?d=a.10.0.3&d=a.10.1.3&s=J1zDk0u5QCeHk4896Mk0jw HTTP/1.1\u001b[0m\" 200 -\n",
      "127.0.0.1 - - [18/Aug/2018 22:33:13] \"\u001b[37mGET /api/v1/tiles/?d=a.10.0.3&d=a.10.1.3&s=J1zDk0u5QCeHk4896Mk0jw HTTP/1.1\u001b[0m\" 200 -\n"
     ]
    }
   ],
   "source": [
    "tilesets = [\n",
    "    {\n",
    "        'filepath': 'matrix.mcool',\n",
    "        'uuid': 'a',\n",
    "    }\n",
    "]\n",
    "server = hgflask.start(tilesets)\n",
    "print(server.tileset_info('a'))\n"
   ]
  },
  {
   "cell_type": "code",
   "execution_count": 10,
   "metadata": {},
   "outputs": [
    {
     "name": "stdout",
     "output_type": "stream",
     "text": [
      "{'bins_per_dimension': 256, 'chromsizes': [['chrom1', 1000000]], 'filepath': 'matrix.mcool', 'max_pos': [1000000, 1000000], 'max_width': 1048576, 'max_zoom': 12, 'min_pos': [0, 0], 'transforms': [], 'uuid': 'a'}\n",
      "2.408851146697998\n",
      "0.6542492508888245\n"
     ]
    }
   ],
   "source": [
    "print(server.tileset_info('a'))\n",
    "print(server.tiles('a', 11, 0, 0)['max_value'])\n",
    "print(server.tiles('a', 12, 0, 0)['max_value'])"
   ]
  },
  {
   "cell_type": "code",
   "execution_count": 11,
   "metadata": {},
   "outputs": [
    {
     "data": {
      "application/vnd.jupyter.widget-view+json": {
       "model_id": "68db2fd92ed2434283ff1c125b4103f9",
       "version_major": 2,
       "version_minor": 0
      },
      "text/plain": [
       "A Jupyter Widget"
      ]
     },
     "metadata": {},
     "output_type": "display_data"
    }
   ],
   "source": [
    "hgc = hfc.HiGlassConfig()\n",
    "view_uid = hgc.add_view()\n",
    "hgc.add_track(view_uid, 'heatmap', 'center', \n",
    "              'http://localhost:{}/api/v1'.format(server.port), \n",
    "              'a')\n",
    "\n",
    "import jupyter_higlass\n",
    "jupyter_higlass.HiGlassDisplay(viewconf=hgc.to_json_string())"
   ]
  },
  {
   "cell_type": "code",
   "execution_count": 1,
   "metadata": {},
   "outputs": [
    {
     "name": "stderr",
     "output_type": "stream",
     "text": [
      "/Users/pete/miniconda3/envs/cenv3/lib/python3.6/importlib/_bootstrap.py:205: RuntimeWarning: numpy.dtype size changed, may indicate binary incompatibility. Expected 96, got 88\n",
      "  return f(*args, **kwds)\n"
     ]
    },
    {
     "data": {
      "text/plain": [
       "array([4.99600361e-16, 5.36475388e-01, 5.73890207e-01, ...,\n",
       "       0.00000000e+00, 3.57993509e-01, 1.11022302e-16])"
      ]
     },
     "execution_count": 1,
     "metadata": {},
     "output_type": "execute_result"
    }
   ],
   "source": [
    "import cooler\n",
    "import h5py as h5py\n",
    "\n",
    "f = h5py.File('matrix.cool', 'r')\n",
    "f['pixels']['count'][:]"
   ]
  },
  {
   "cell_type": "code",
   "execution_count": 2,
   "metadata": {},
   "outputs": [
    {
     "data": {
      "text/plain": [
       "array([4.99600361e-16, 1.11036560e+00, 9.93781069e-01, ...,\n",
       "       5.25155511e-01, 6.76539333e-01, 1.11022302e-16])"
      ]
     },
     "execution_count": 2,
     "metadata": {},
     "output_type": "execute_result"
    }
   ],
   "source": [
    "f = h5py.File('matrix.mcool', 'r')\n",
    "f['11']['pixels']['count'][:]"
   ]
  },
  {
   "cell_type": "code",
   "execution_count": null,
   "metadata": {
    "collapsed": true
   },
   "outputs": [],
   "source": []
  }
 ],
 "metadata": {
  "kernelspec": {
   "display_name": "Python 3",
   "language": "python",
   "name": "python3"
  },
  "language_info": {
   "codemirror_mode": {
    "name": "ipython",
    "version": 3
   },
   "file_extension": ".py",
   "mimetype": "text/x-python",
   "name": "python",
   "nbconvert_exporter": "python",
   "pygments_lexer": "ipython3",
   "version": "3.6.2"
  }
 },
 "nbformat": 4,
 "nbformat_minor": 2
}
