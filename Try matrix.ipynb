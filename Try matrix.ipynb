{
 "cells": [
  {
   "cell_type": "code",
   "execution_count": 13,
   "metadata": {},
   "outputs": [
    {
     "name": "stdout",
     "output_type": "stream",
     "text": [
      "The autoreload extension is already loaded. To reload it, use:\n",
      "  %reload_ext autoreload\n"
     ]
    }
   ],
   "source": [
    "%load_ext autoreload\n",
    "%autoreload 2"
   ]
  },
  {
   "cell_type": "code",
   "execution_count": 35,
   "metadata": {
    "collapsed": true
   },
   "outputs": [],
   "source": [
    "import hgflask"
   ]
  },
  {
   "cell_type": "code",
   "execution_count": 59,
   "metadata": {},
   "outputs": [
    {
     "name": "stdout",
     "output_type": "stream",
     "text": [
      "processes: {}\n"
     ]
    },
    {
     "name": "stderr",
     "output_type": "stream",
     "text": [
      " * Running on http://0.0.0.0:64291/ (Press CTRL+C to quit)\n"
     ]
    },
    {
     "name": "stdout",
     "output_type": "stream",
     "text": [
      "filetype: cooler\n"
     ]
    },
    {
     "name": "stderr",
     "output_type": "stream",
     "text": [
      "127.0.0.1 - - [18/Aug/2018 14:51:36] \"\u001b[37mGET /api/v1/tileset_info/?d=a HTTP/1.1\u001b[0m\" 200 -\n",
      "127.0.0.1 - - [18/Aug/2018 14:58:58] \"\u001b[37mOPTIONS /api/v1/tileset_info/?d=a&s=J1zDk0u5QCeHk4896Mk0jw HTTP/1.1\u001b[0m\" 200 -\n"
     ]
    },
    {
     "name": "stdout",
     "output_type": "stream",
     "text": [
      "filetype: cooler\n"
     ]
    },
    {
     "name": "stderr",
     "output_type": "stream",
     "text": [
      "127.0.0.1 - - [18/Aug/2018 14:58:58] \"\u001b[37mGET /api/v1/tileset_info/?d=a&s=J1zDk0u5QCeHk4896Mk0jw HTTP/1.1\u001b[0m\" 200 -\n",
      "127.0.0.1 - - [18/Aug/2018 14:58:59] \"\u001b[37mOPTIONS /api/v1/tiles/?d=a.12.0.0&s=J1zDk0u5QCeHk4896Mk0jw HTTP/1.1\u001b[0m\" 200 -\n",
      "127.0.0.1 - - [18/Aug/2018 14:58:59] \"\u001b[37mGET /api/v1/tiles/?d=a.12.0.0&s=J1zDk0u5QCeHk4896Mk0jw HTTP/1.1\u001b[0m\" 200 -\n",
      "127.0.0.1 - - [18/Aug/2018 14:59:06] \"\u001b[37mOPTIONS /api/v1/tiles/?d=a.12.0.1&s=J1zDk0u5QCeHk4896Mk0jw HTTP/1.1\u001b[0m\" 200 -\n",
      "127.0.0.1 - - [18/Aug/2018 14:59:07] \"\u001b[37mGET /api/v1/tiles/?d=a.12.0.1&s=J1zDk0u5QCeHk4896Mk0jw HTTP/1.1\u001b[0m\" 200 -\n",
      "127.0.0.1 - - [18/Aug/2018 14:59:08] \"\u001b[37mOPTIONS /api/v1/tiles/?d=a.12.0.1&d=a.12.1.1&s=J1zDk0u5QCeHk4896Mk0jw HTTP/1.1\u001b[0m\" 200 -\n",
      "127.0.0.1 - - [18/Aug/2018 14:59:08] \"\u001b[37mGET /api/v1/tiles/?d=a.12.0.1&d=a.12.1.1&s=J1zDk0u5QCeHk4896Mk0jw HTTP/1.1\u001b[0m\" 200 -\n",
      "127.0.0.1 - - [18/Aug/2018 14:59:09] \"\u001b[37mOPTIONS /api/v1/tiles/?d=a.12.0.2&d=a.12.1.2&s=J1zDk0u5QCeHk4896Mk0jw HTTP/1.1\u001b[0m\" 200 -\n",
      "127.0.0.1 - - [18/Aug/2018 14:59:09] \"\u001b[37mGET /api/v1/tiles/?d=a.12.0.2&d=a.12.1.2&s=J1zDk0u5QCeHk4896Mk0jw HTTP/1.1\u001b[0m\" 200 -\n",
      "127.0.0.1 - - [18/Aug/2018 14:59:09] \"\u001b[37mOPTIONS /api/v1/tiles/?d=a.12.0.2&d=a.12.1.2&d=a.12.2.2&d=a.12.0.3&d=a.12.1.3&d=a.12.2.3&s=J1zDk0u5QCeHk4896Mk0jw HTTP/1.1\u001b[0m\" 200 -\n",
      "127.0.0.1 - - [18/Aug/2018 14:59:10] \"\u001b[37mGET /api/v1/tiles/?d=a.12.0.2&d=a.12.1.2&d=a.12.2.2&d=a.12.0.3&d=a.12.1.3&d=a.12.2.3&s=J1zDk0u5QCeHk4896Mk0jw HTTP/1.1\u001b[0m\" 200 -\n",
      "127.0.0.1 - - [18/Aug/2018 14:59:11] \"\u001b[37mOPTIONS /api/v1/tiles/?d=a.12.0.4&d=a.12.1.4&d=a.12.2.4&d=a.11.0.0&d=a.11.0.1&d=a.11.1.1&d=a.11.0.2&d=a.11.1.2&s=J1zDk0u5QCeHk4896Mk0jw HTTP/1.1\u001b[0m\" 200 -\n",
      "127.0.0.1 - - [18/Aug/2018 14:59:12] \"\u001b[37mGET /api/v1/tiles/?d=a.12.0.4&d=a.12.1.4&d=a.12.2.4&d=a.11.0.0&d=a.11.0.1&d=a.11.1.1&d=a.11.0.2&d=a.11.1.2&s=J1zDk0u5QCeHk4896Mk0jw HTTP/1.1\u001b[0m\" 200 -\n",
      "127.0.0.1 - - [18/Aug/2018 14:59:13] \"\u001b[37mOPTIONS /api/v1/tiles/?d=a.11.0.2&d=a.11.1.2&d=a.11.2.2&s=J1zDk0u5QCeHk4896Mk0jw HTTP/1.1\u001b[0m\" 200 -\n",
      "127.0.0.1 - - [18/Aug/2018 14:59:14] \"\u001b[37mGET /api/v1/tiles/?d=a.11.0.2&d=a.11.1.2&d=a.11.2.2&s=J1zDk0u5QCeHk4896Mk0jw HTTP/1.1\u001b[0m\" 200 -\n",
      "127.0.0.1 - - [18/Aug/2018 14:59:14] \"\u001b[37mOPTIONS /api/v1/tiles/?d=a.11.0.3&d=a.11.1.3&d=a.11.2.3&s=J1zDk0u5QCeHk4896Mk0jw HTTP/1.1\u001b[0m\" 200 -\n",
      "127.0.0.1 - - [18/Aug/2018 14:59:14] \"\u001b[37mGET /api/v1/tiles/?d=a.11.0.3&d=a.11.1.3&d=a.11.2.3&s=J1zDk0u5QCeHk4896Mk0jw HTTP/1.1\u001b[0m\" 200 -\n",
      "127.0.0.1 - - [18/Aug/2018 14:59:16] \"\u001b[37mOPTIONS /api/v1/tiles/?d=a.10.0.0&d=a.10.0.1&d=a.10.1.1&d=a.10.0.2&d=a.10.1.2&d=a.9.0.0&d=a.9.0.1&d=a.9.1.1&s=J1zDk0u5QCeHk4896Mk0jw HTTP/1.1\u001b[0m\" 200 -\n",
      "127.0.0.1 - - [18/Aug/2018 14:59:16] \"\u001b[37mGET /api/v1/tiles/?d=a.10.0.0&d=a.10.0.1&d=a.10.1.1&d=a.10.0.2&d=a.10.1.2&d=a.9.0.0&d=a.9.0.1&d=a.9.1.1&s=J1zDk0u5QCeHk4896Mk0jw HTTP/1.1\u001b[0m\" 200 -\n",
      "127.0.0.1 - - [18/Aug/2018 14:59:18] \"\u001b[37mOPTIONS /api/v1/tiles/?d=a.9.0.2&d=a.9.1.2&d=a.8.0.0&d=a.8.0.1&d=a.8.1.1&s=J1zDk0u5QCeHk4896Mk0jw HTTP/1.1\u001b[0m\" 200 -\n",
      "127.0.0.1 - - [18/Aug/2018 14:59:18] \"\u001b[37mGET /api/v1/tiles/?d=a.9.0.2&d=a.9.1.2&d=a.8.0.0&d=a.8.0.1&d=a.8.1.1&s=J1zDk0u5QCeHk4896Mk0jw HTTP/1.1\u001b[0m\" 200 -\n",
      "127.0.0.1 - - [18/Aug/2018 14:59:19] \"\u001b[37mOPTIONS /api/v1/tiles/?d=a.9.0.0&d=a.9.0.1&d=a.9.1.1&d=a.9.0.2&d=a.9.1.2&d=a.10.0.0&d=a.10.0.1&d=a.10.1.1&d=a.10.0.2&d=a.10.1.2&d=a.10.0.3&d=a.10.1.3&s=J1zDk0u5QCeHk4896Mk0jw HTTP/1.1\u001b[0m\" 200 -\n",
      "127.0.0.1 - - [18/Aug/2018 14:59:19] \"\u001b[37mGET /api/v1/tiles/?d=a.9.0.0&d=a.9.0.1&d=a.9.1.1&d=a.9.0.2&d=a.9.1.2&d=a.10.0.0&d=a.10.0.1&d=a.10.1.1&d=a.10.0.2&d=a.10.1.2&d=a.10.0.3&d=a.10.1.3&s=J1zDk0u5QCeHk4896Mk0jw HTTP/1.1\u001b[0m\" 200 -\n",
      "127.0.0.1 - - [18/Aug/2018 14:59:20] \"\u001b[37mOPTIONS /api/v1/tiles/?d=a.11.0.0&d=a.11.0.1&d=a.11.0.2&d=a.11.1.1&d=a.11.1.2&d=a.11.2.2&d=a.11.0.3&d=a.11.1.3&d=a.11.2.3&s=J1zDk0u5QCeHk4896Mk0jw HTTP/1.1\u001b[0m\" 200 -\n",
      "127.0.0.1 - - [18/Aug/2018 14:59:20] \"\u001b[37mGET /api/v1/tiles/?d=a.11.0.0&d=a.11.0.1&d=a.11.0.2&d=a.11.1.1&d=a.11.1.2&d=a.11.2.2&d=a.11.0.3&d=a.11.1.3&d=a.11.2.3&s=J1zDk0u5QCeHk4896Mk0jw HTTP/1.1\u001b[0m\" 200 -\n",
      "127.0.0.1 - - [18/Aug/2018 14:59:22] \"\u001b[37mOPTIONS /api/v1/tiles/?d=a.12.0.0&d=a.12.0.1&d=a.12.0.2&d=a.12.0.3&d=a.12.1.1&d=a.12.1.2&d=a.12.1.3&d=a.12.2.2&d=a.12.2.3&d=a.12.3.3&d=a.12.0.4&d=a.12.1.4&d=a.12.2.4&d=a.12.3.4&s=J1zDk0u5QCeHk4896Mk0jw HTTP/1.1\u001b[0m\" 200 -\n",
      "127.0.0.1 - - [18/Aug/2018 14:59:23] \"\u001b[37mGET /api/v1/tiles/?d=a.12.0.0&d=a.12.0.1&d=a.12.0.2&d=a.12.0.3&d=a.12.1.1&d=a.12.1.2&d=a.12.1.3&d=a.12.2.2&d=a.12.2.3&d=a.12.3.3&d=a.12.0.4&d=a.12.1.4&d=a.12.2.4&d=a.12.3.4&s=J1zDk0u5QCeHk4896Mk0jw HTTP/1.1\u001b[0m\" 200 -\n",
      "127.0.0.1 - - [18/Aug/2018 14:59:26] \"\u001b[37mOPTIONS /api/v1/tiles/?d=a.12.0.1&d=a.12.0.2&s=J1zDk0u5QCeHk4896Mk0jw HTTP/1.1\u001b[0m\" 200 -\n",
      "127.0.0.1 - - [18/Aug/2018 14:59:27] \"\u001b[37mGET /api/v1/tiles/?d=a.12.0.1&d=a.12.0.2&s=J1zDk0u5QCeHk4896Mk0jw HTTP/1.1\u001b[0m\" 200 -\n",
      "127.0.0.1 - - [18/Aug/2018 14:59:27] \"\u001b[37mOPTIONS /api/v1/tiles/?d=a.12.0.0&d=a.12.0.1&d=a.12.0.2&s=J1zDk0u5QCeHk4896Mk0jw HTTP/1.1\u001b[0m\" 200 -\n",
      "127.0.0.1 - - [18/Aug/2018 14:59:27] \"\u001b[37mGET /api/v1/tiles/?d=a.12.0.0&d=a.12.0.1&d=a.12.0.2&s=J1zDk0u5QCeHk4896Mk0jw HTTP/1.1\u001b[0m\" 200 -\n",
      "127.0.0.1 - - [18/Aug/2018 14:59:35] \"\u001b[37mOPTIONS /api/v1/tiles/?d=a.12.0.1&s=J1zDk0u5QCeHk4896Mk0jw HTTP/1.1\u001b[0m\" 200 -\n",
      "127.0.0.1 - - [18/Aug/2018 14:59:35] \"\u001b[37mGET /api/v1/tiles/?d=a.12.0.1&s=J1zDk0u5QCeHk4896Mk0jw HTTP/1.1\u001b[0m\" 200 -\n",
      "127.0.0.1 - - [18/Aug/2018 14:59:36] \"\u001b[37mOPTIONS /api/v1/tiles/?d=a.12.0.1&d=a.12.1.1&d=a.12.0.2&d=a.12.1.2&s=J1zDk0u5QCeHk4896Mk0jw HTTP/1.1\u001b[0m\" 200 -\n",
      "127.0.0.1 - - [18/Aug/2018 14:59:37] \"\u001b[37mGET /api/v1/tiles/?d=a.12.0.1&d=a.12.1.1&d=a.12.0.2&d=a.12.1.2&s=J1zDk0u5QCeHk4896Mk0jw HTTP/1.1\u001b[0m\" 200 -\n",
      "127.0.0.1 - - [18/Aug/2018 14:59:39] \"\u001b[37mOPTIONS /api/v1/tiles/?d=a.12.0.3&d=a.12.1.3&d=a.12.0.2&d=a.12.1.2&d=a.12.2.2&d=a.12.2.3&s=J1zDk0u5QCeHk4896Mk0jw HTTP/1.1\u001b[0m\" 200 -\n",
      "127.0.0.1 - - [18/Aug/2018 14:59:39] \"\u001b[37mGET /api/v1/tiles/?d=a.12.0.3&d=a.12.1.3&d=a.12.0.2&d=a.12.1.2&d=a.12.2.2&d=a.12.2.3&s=J1zDk0u5QCeHk4896Mk0jw HTTP/1.1\u001b[0m\" 200 -\n",
      "127.0.0.1 - - [18/Aug/2018 14:59:39] \"\u001b[37mOPTIONS /api/v1/tiles/?d=a.11.0.0&d=a.11.0.1&d=a.11.1.1&d=a.11.0.2&d=a.11.1.2&s=J1zDk0u5QCeHk4896Mk0jw HTTP/1.1\u001b[0m\" 200 -\n",
      "127.0.0.1 - - [18/Aug/2018 14:59:40] \"\u001b[37mGET /api/v1/tiles/?d=a.11.0.0&d=a.11.0.1&d=a.11.1.1&d=a.11.0.2&d=a.11.1.2&s=J1zDk0u5QCeHk4896Mk0jw HTTP/1.1\u001b[0m\" 200 -\n",
      "127.0.0.1 - - [18/Aug/2018 14:59:49] \"\u001b[37mOPTIONS /api/v1/tiles/?d=a.12.0.0&d=a.12.0.1&d=a.12.0.2&d=a.12.1.1&d=a.12.1.2&d=a.12.2.2&d=a.12.0.3&d=a.12.1.3&d=a.12.2.3&d=a.12.0.4&d=a.12.1.4&d=a.12.2.4&s=J1zDk0u5QCeHk4896Mk0jw HTTP/1.1\u001b[0m\" 200 -\n",
      "127.0.0.1 - - [18/Aug/2018 14:59:50] \"\u001b[37mGET /api/v1/tiles/?d=a.12.0.0&d=a.12.0.1&d=a.12.0.2&d=a.12.1.1&d=a.12.1.2&d=a.12.2.2&d=a.12.0.3&d=a.12.1.3&d=a.12.2.3&d=a.12.0.4&d=a.12.1.4&d=a.12.2.4&s=J1zDk0u5QCeHk4896Mk0jw HTTP/1.1\u001b[0m\" 200 -\n",
      "127.0.0.1 - - [18/Aug/2018 14:59:52] \"\u001b[37mOPTIONS /api/v1/tiles/?d=a.12.0.2&d=a.12.1.2&d=a.12.0.3&d=a.12.1.3&s=J1zDk0u5QCeHk4896Mk0jw HTTP/1.1\u001b[0m\" 200 -\n",
      "127.0.0.1 - - [18/Aug/2018 14:59:52] \"\u001b[37mGET /api/v1/tiles/?d=a.12.0.2&d=a.12.1.2&d=a.12.0.3&d=a.12.1.3&s=J1zDk0u5QCeHk4896Mk0jw HTTP/1.1\u001b[0m\" 200 -\n",
      "127.0.0.1 - - [18/Aug/2018 14:59:52] \"\u001b[37mOPTIONS /api/v1/tiles/?d=a.12.0.2&d=a.12.1.2&d=a.12.2.2&d=a.12.2.3&s=J1zDk0u5QCeHk4896Mk0jw HTTP/1.1\u001b[0m\" 200 -\n",
      "127.0.0.1 - - [18/Aug/2018 14:59:53] \"\u001b[37mGET /api/v1/tiles/?d=a.12.0.2&d=a.12.1.2&d=a.12.2.2&d=a.12.2.3&s=J1zDk0u5QCeHk4896Mk0jw HTTP/1.1\u001b[0m\" 200 -\n",
      "127.0.0.1 - - [18/Aug/2018 14:59:54] \"\u001b[37mOPTIONS /api/v1/tiles/?d=a.12.0.4&d=a.12.1.4&d=a.12.2.4&s=J1zDk0u5QCeHk4896Mk0jw HTTP/1.1\u001b[0m\" 200 -\n",
      "127.0.0.1 - - [18/Aug/2018 14:59:54] \"\u001b[37mGET /api/v1/tiles/?d=a.12.0.4&d=a.12.1.4&d=a.12.2.4&s=J1zDk0u5QCeHk4896Mk0jw HTTP/1.1\u001b[0m\" 200 -\n",
      "127.0.0.1 - - [18/Aug/2018 15:00:00] \"\u001b[37mOPTIONS /api/v1/tiles/?d=a.12.0.3&d=a.12.1.3&d=a.12.2.3&d=a.12.3.3&d=a.12.1.4&d=a.12.2.4&d=a.12.3.4&d=a.12.1.5&d=a.12.2.5&d=a.12.3.5&s=J1zDk0u5QCeHk4896Mk0jw HTTP/1.1\u001b[0m\" 200 -\n",
      "127.0.0.1 - - [18/Aug/2018 15:00:00] \"\u001b[37mGET /api/v1/tiles/?d=a.12.0.3&d=a.12.1.3&d=a.12.2.3&d=a.12.3.3&d=a.12.1.4&d=a.12.2.4&d=a.12.3.4&d=a.12.1.5&d=a.12.2.5&d=a.12.3.5&s=J1zDk0u5QCeHk4896Mk0jw HTTP/1.1\u001b[0m\" 200 -\n",
      "127.0.0.1 - - [18/Aug/2018 15:00:00] \"\u001b[37mOPTIONS /api/v1/tiles/?d=a.12.4.4&d=a.12.4.5&s=J1zDk0u5QCeHk4896Mk0jw HTTP/1.1\u001b[0m\" 200 -\n"
     ]
    },
    {
     "name": "stderr",
     "output_type": "stream",
     "text": [
      "127.0.0.1 - - [18/Aug/2018 15:00:01] \"\u001b[37mGET /api/v1/tiles/?d=a.12.4.4&d=a.12.4.5&s=J1zDk0u5QCeHk4896Mk0jw HTTP/1.1\u001b[0m\" 200 -\n",
      "127.0.0.1 - - [18/Aug/2018 15:00:03] \"\u001b[37mOPTIONS /api/v1/tiles/?d=a.12.1.6&d=a.12.2.6&d=a.12.3.6&d=a.12.4.6&d=a.11.0.0&d=a.11.0.1&d=a.11.0.2&d=a.11.1.1&d=a.11.1.2&d=a.11.2.2&d=a.11.0.3&d=a.11.1.3&d=a.11.2.3&d=a.11.3.3&d=a.11.0.4&d=a.11.1.4&d=a.11.2.4&d=a.11.3.4&d=a.10.0.0&d=a.10.0.1&s=J1zDk0u5QCeHk4896Mk0jw HTTP/1.1\u001b[0m\" 200 -\n",
      "127.0.0.1 - - [18/Aug/2018 15:00:03] \"\u001b[37mOPTIONS /api/v1/tiles/?d=a.10.1.1&d=a.10.0.2&d=a.10.1.2&s=J1zDk0u5QCeHk4896Mk0jw HTTP/1.1\u001b[0m\" 200 -\n",
      "127.0.0.1 - - [18/Aug/2018 15:00:03] \"\u001b[37mGET /api/v1/tiles/?d=a.12.1.6&d=a.12.2.6&d=a.12.3.6&d=a.12.4.6&d=a.11.0.0&d=a.11.0.1&d=a.11.0.2&d=a.11.1.1&d=a.11.1.2&d=a.11.2.2&d=a.11.0.3&d=a.11.1.3&d=a.11.2.3&d=a.11.3.3&d=a.11.0.4&d=a.11.1.4&d=a.11.2.4&d=a.11.3.4&d=a.10.0.0&d=a.10.0.1&s=J1zDk0u5QCeHk4896Mk0jw HTTP/1.1\u001b[0m\" 200 -\n",
      "127.0.0.1 - - [18/Aug/2018 15:00:03] \"\u001b[37mGET /api/v1/tiles/?d=a.10.1.1&d=a.10.0.2&d=a.10.1.2&s=J1zDk0u5QCeHk4896Mk0jw HTTP/1.1\u001b[0m\" 200 -\n",
      "127.0.0.1 - - [18/Aug/2018 15:00:03] \"\u001b[37mOPTIONS /api/v1/tiles/?d=a.10.0.3&d=a.10.1.3&s=J1zDk0u5QCeHk4896Mk0jw HTTP/1.1\u001b[0m\" 200 -\n",
      "127.0.0.1 - - [18/Aug/2018 15:00:03] \"\u001b[37mOPTIONS /api/v1/tiles/?d=a.10.2.2&d=a.10.2.3&s=J1zDk0u5QCeHk4896Mk0jw HTTP/1.1\u001b[0m\" 200 -\n",
      "127.0.0.1 - - [18/Aug/2018 15:00:03] \"\u001b[37mGET /api/v1/tiles/?d=a.10.0.3&d=a.10.1.3&s=J1zDk0u5QCeHk4896Mk0jw HTTP/1.1\u001b[0m\" 200 -\n",
      "127.0.0.1 - - [18/Aug/2018 15:00:03] \"\u001b[37mGET /api/v1/tiles/?d=a.10.2.2&d=a.10.2.3&s=J1zDk0u5QCeHk4896Mk0jw HTTP/1.1\u001b[0m\" 200 -\n",
      "127.0.0.1 - - [18/Aug/2018 15:00:05] \"\u001b[37mOPTIONS /api/v1/tiles/?d=a.9.0.0&d=a.9.0.1&d=a.9.1.1&d=a.9.0.2&d=a.9.1.2&d=a.9.0.3&d=a.9.1.3&s=J1zDk0u5QCeHk4896Mk0jw HTTP/1.1\u001b[0m\" 200 -\n",
      "127.0.0.1 - - [18/Aug/2018 15:00:05] \"\u001b[37mGET /api/v1/tiles/?d=a.9.0.0&d=a.9.0.1&d=a.9.1.1&d=a.9.0.2&d=a.9.1.2&d=a.9.0.3&d=a.9.1.3&s=J1zDk0u5QCeHk4896Mk0jw HTTP/1.1\u001b[0m\" 200 -\n",
      "127.0.0.1 - - [18/Aug/2018 15:00:06] \"\u001b[37mOPTIONS /api/v1/tiles/?d=a.9.0.2&d=a.9.1.2&d=a.9.2.2&d=a.9.2.3&s=J1zDk0u5QCeHk4896Mk0jw HTTP/1.1\u001b[0m\" 200 -\n",
      "127.0.0.1 - - [18/Aug/2018 15:00:06] \"\u001b[37mGET /api/v1/tiles/?d=a.9.0.2&d=a.9.1.2&d=a.9.2.2&d=a.9.2.3&s=J1zDk0u5QCeHk4896Mk0jw HTTP/1.1\u001b[0m\" 200 -\n",
      "127.0.0.1 - - [18/Aug/2018 15:00:06] \"\u001b[37mOPTIONS /api/v1/tiles/?d=a.8.0.0&d=a.8.0.1&d=a.8.1.1&d=a.8.0.2&d=a.8.1.2&d=a.8.0.3&d=a.8.1.3&d=a.7.0.0&d=a.7.0.1&d=a.7.1.1&s=J1zDk0u5QCeHk4896Mk0jw HTTP/1.1\u001b[0m\" 200 -\n",
      "127.0.0.1 - - [18/Aug/2018 15:00:06] \"\u001b[37mGET /api/v1/tiles/?d=a.8.0.0&d=a.8.0.1&d=a.8.1.1&d=a.8.0.2&d=a.8.1.2&d=a.8.0.3&d=a.8.1.3&d=a.7.0.0&d=a.7.0.1&d=a.7.1.1&s=J1zDk0u5QCeHk4896Mk0jw HTTP/1.1\u001b[0m\" 200 -\n",
      "127.0.0.1 - - [18/Aug/2018 15:00:07] \"\u001b[37mOPTIONS /api/v1/tiles/?d=a.7.0.2&d=a.7.1.2&d=a.7.0.3&d=a.7.1.3&s=J1zDk0u5QCeHk4896Mk0jw HTTP/1.1\u001b[0m\" 200 -\n",
      "127.0.0.1 - - [18/Aug/2018 15:00:07] \"\u001b[37mGET /api/v1/tiles/?d=a.7.0.2&d=a.7.1.2&d=a.7.0.3&d=a.7.1.3&s=J1zDk0u5QCeHk4896Mk0jw HTTP/1.1\u001b[0m\" 200 -\n",
      "127.0.0.1 - - [18/Aug/2018 15:00:08] \"\u001b[37mOPTIONS /api/v1/tiles/?d=a.7.0.2&d=a.7.1.2&d=a.7.2.2&d=a.7.2.3&s=J1zDk0u5QCeHk4896Mk0jw HTTP/1.1\u001b[0m\" 200 -\n",
      "127.0.0.1 - - [18/Aug/2018 15:00:08] \"\u001b[37mGET /api/v1/tiles/?d=a.7.0.2&d=a.7.1.2&d=a.7.2.2&d=a.7.2.3&s=J1zDk0u5QCeHk4896Mk0jw HTTP/1.1\u001b[0m\" 200 -\n",
      "127.0.0.1 - - [18/Aug/2018 15:00:08] \"\u001b[37mOPTIONS /api/v1/tiles/?d=a.7.0.4&d=a.7.1.4&d=a.7.2.4&s=J1zDk0u5QCeHk4896Mk0jw HTTP/1.1\u001b[0m\" 200 -\n",
      "127.0.0.1 - - [18/Aug/2018 15:00:08] \"\u001b[37mGET /api/v1/tiles/?d=a.7.0.4&d=a.7.1.4&d=a.7.2.4&s=J1zDk0u5QCeHk4896Mk0jw HTTP/1.1\u001b[0m\" 200 -\n",
      "127.0.0.1 - - [18/Aug/2018 15:00:10] \"\u001b[37mOPTIONS /api/v1/tiles/?d=a.6.0.0&d=a.6.0.1&d=a.6.1.1&d=a.6.0.2&d=a.6.1.2&d=a.6.2.2&d=a.6.0.3&d=a.6.1.3&d=a.6.2.3&d=a.5.0.0&d=a.5.0.1&d=a.5.1.1&d=a.5.0.2&d=a.5.1.2&s=J1zDk0u5QCeHk4896Mk0jw HTTP/1.1\u001b[0m\" 200 -\n",
      "127.0.0.1 - - [18/Aug/2018 15:00:10] \"\u001b[37mGET /api/v1/tiles/?d=a.6.0.0&d=a.6.0.1&d=a.6.1.1&d=a.6.0.2&d=a.6.1.2&d=a.6.2.2&d=a.6.0.3&d=a.6.1.3&d=a.6.2.3&d=a.5.0.0&d=a.5.0.1&d=a.5.1.1&d=a.5.0.2&d=a.5.1.2&s=J1zDk0u5QCeHk4896Mk0jw HTTP/1.1\u001b[0m\" 200 -\n",
      "127.0.0.1 - - [18/Aug/2018 15:00:13] \"\u001b[37mOPTIONS /api/v1/tiles/?d=a.5.0.2&d=a.5.1.2&d=a.5.2.2&d=a.5.0.3&d=a.5.1.3&d=a.5.2.3&s=J1zDk0u5QCeHk4896Mk0jw HTTP/1.1\u001b[0m\" 200 -\n",
      "127.0.0.1 - - [18/Aug/2018 15:00:13] \"\u001b[37mGET /api/v1/tiles/?d=a.5.0.2&d=a.5.1.2&d=a.5.2.2&d=a.5.0.3&d=a.5.1.3&d=a.5.2.3&s=J1zDk0u5QCeHk4896Mk0jw HTTP/1.1\u001b[0m\" 200 -\n",
      "127.0.0.1 - - [18/Aug/2018 15:00:13] \"\u001b[37mOPTIONS /api/v1/tiles/?d=a.4.0.0&d=a.4.0.1&d=a.4.1.1&d=a.4.0.2&d=a.4.1.2&s=J1zDk0u5QCeHk4896Mk0jw HTTP/1.1\u001b[0m\" 200 -\n",
      "127.0.0.1 - - [18/Aug/2018 15:00:13] \"\u001b[37mGET /api/v1/tiles/?d=a.4.0.0&d=a.4.0.1&d=a.4.1.1&d=a.4.0.2&d=a.4.1.2&s=J1zDk0u5QCeHk4896Mk0jw HTTP/1.1\u001b[0m\" 200 -\n",
      "127.0.0.1 - - [18/Aug/2018 15:00:14] \"\u001b[37mOPTIONS /api/v1/tiles/?d=a.4.0.3&d=a.4.1.3&d=a.3.0.0&d=a.3.0.1&d=a.3.1.1&d=a.3.0.2&d=a.3.1.2&s=J1zDk0u5QCeHk4896Mk0jw HTTP/1.1\u001b[0m\" 200 -\n",
      "127.0.0.1 - - [18/Aug/2018 15:00:14] \"\u001b[37mGET /api/v1/tiles/?d=a.4.0.3&d=a.4.1.3&d=a.3.0.0&d=a.3.0.1&d=a.3.1.1&d=a.3.0.2&d=a.3.1.2&s=J1zDk0u5QCeHk4896Mk0jw HTTP/1.1\u001b[0m\" 200 -\n",
      "127.0.0.1 - - [18/Aug/2018 15:00:15] \"\u001b[37mOPTIONS /api/v1/tiles/?d=a.3.0.3&d=a.3.1.3&s=J1zDk0u5QCeHk4896Mk0jw HTTP/1.1\u001b[0m\" 200 -\n",
      "127.0.0.1 - - [18/Aug/2018 15:00:15] \"\u001b[37mGET /api/v1/tiles/?d=a.3.0.3&d=a.3.1.3&s=J1zDk0u5QCeHk4896Mk0jw HTTP/1.1\u001b[0m\" 200 -\n",
      "127.0.0.1 - - [18/Aug/2018 15:00:17] \"\u001b[37mOPTIONS /api/v1/tiles/?d=a.2.0.0&d=a.2.0.1&d=a.2.1.1&d=a.2.0.2&d=a.2.1.2&s=J1zDk0u5QCeHk4896Mk0jw HTTP/1.1\u001b[0m\" 200 -\n",
      "127.0.0.1 - - [18/Aug/2018 15:00:17] \"\u001b[37mGET /api/v1/tiles/?d=a.2.0.0&d=a.2.0.1&d=a.2.1.1&d=a.2.0.2&d=a.2.1.2&s=J1zDk0u5QCeHk4896Mk0jw HTTP/1.1\u001b[0m\" 200 -\n",
      "127.0.0.1 - - [18/Aug/2018 15:00:19] \"\u001b[37mOPTIONS /api/v1/tiles/?d=a.3.0.0&d=a.3.0.1&d=a.3.1.1&d=a.3.0.2&d=a.3.1.2&d=a.3.0.3&d=a.3.1.3&d=a.4.0.0&d=a.4.0.1&d=a.4.0.2&d=a.4.1.1&d=a.4.1.2&d=a.4.2.2&d=a.4.0.3&d=a.4.1.3&d=a.4.2.3&s=J1zDk0u5QCeHk4896Mk0jw HTTP/1.1\u001b[0m\" 200 -\n",
      "127.0.0.1 - - [18/Aug/2018 15:00:19] \"\u001b[37mGET /api/v1/tiles/?d=a.3.0.0&d=a.3.0.1&d=a.3.1.1&d=a.3.0.2&d=a.3.1.2&d=a.3.0.3&d=a.3.1.3&d=a.4.0.0&d=a.4.0.1&d=a.4.0.2&d=a.4.1.1&d=a.4.1.2&d=a.4.2.2&d=a.4.0.3&d=a.4.1.3&d=a.4.2.3&s=J1zDk0u5QCeHk4896Mk0jw HTTP/1.1\u001b[0m\" 200 -\n",
      "127.0.0.1 - - [18/Aug/2018 15:00:23] \"\u001b[37mOPTIONS /api/v1/tiles/?d=a.5.0.0&d=a.5.0.1&d=a.5.0.2&d=a.5.1.1&d=a.5.1.2&d=a.5.2.2&d=a.5.0.3&d=a.5.1.3&d=a.5.2.3&d=a.6.0.0&d=a.6.0.1&d=a.6.0.2&d=a.6.1.1&d=a.6.1.2&d=a.6.2.2&d=a.6.0.3&d=a.6.1.3&d=a.6.2.3&s=J1zDk0u5QCeHk4896Mk0jw HTTP/1.1\u001b[0m\" 200 -\n",
      "127.0.0.1 - - [18/Aug/2018 15:00:23] \"\u001b[37mGET /api/v1/tiles/?d=a.5.0.0&d=a.5.0.1&d=a.5.0.2&d=a.5.1.1&d=a.5.1.2&d=a.5.2.2&d=a.5.0.3&d=a.5.1.3&d=a.5.2.3&d=a.6.0.0&d=a.6.0.1&d=a.6.0.2&d=a.6.1.1&d=a.6.1.2&d=a.6.2.2&d=a.6.0.3&d=a.6.1.3&d=a.6.2.3&s=J1zDk0u5QCeHk4896Mk0jw HTTP/1.1\u001b[0m\" 200 -\n",
      "127.0.0.1 - - [18/Aug/2018 15:00:24] \"\u001b[37mOPTIONS /api/v1/tiles/?d=a.7.0.0&d=a.7.0.1&d=a.7.0.2&d=a.7.1.1&d=a.7.1.2&d=a.7.2.2&d=a.7.0.3&d=a.7.1.3&d=a.7.2.3&s=J1zDk0u5QCeHk4896Mk0jw HTTP/1.1\u001b[0m\" 200 -\n",
      "127.0.0.1 - - [18/Aug/2018 15:00:24] \"\u001b[37mGET /api/v1/tiles/?d=a.7.0.0&d=a.7.0.1&d=a.7.0.2&d=a.7.1.1&d=a.7.1.2&d=a.7.2.2&d=a.7.0.3&d=a.7.1.3&d=a.7.2.3&s=J1zDk0u5QCeHk4896Mk0jw HTTP/1.1\u001b[0m\" 200 -\n",
      "127.0.0.1 - - [18/Aug/2018 15:00:27] \"\u001b[37mOPTIONS /api/v1/tiles/?d=a.8.0.0&d=a.8.0.1&d=a.8.1.1&d=a.8.0.2&d=a.8.1.2&d=a.8.0.3&d=a.8.1.3&s=J1zDk0u5QCeHk4896Mk0jw HTTP/1.1\u001b[0m\" 200 -\n",
      "127.0.0.1 - - [18/Aug/2018 15:00:27] \"\u001b[37mGET /api/v1/tiles/?d=a.8.0.0&d=a.8.0.1&d=a.8.1.1&d=a.8.0.2&d=a.8.1.2&d=a.8.0.3&d=a.8.1.3&s=J1zDk0u5QCeHk4896Mk0jw HTTP/1.1\u001b[0m\" 200 -\n",
      "127.0.0.1 - - [18/Aug/2018 15:00:28] \"\u001b[37mOPTIONS /api/v1/tiles/?d=a.9.0.0&d=a.9.0.1&d=a.9.0.2&d=a.9.1.1&d=a.9.1.2&d=a.9.2.2&d=a.9.0.3&d=a.9.1.3&d=a.9.2.3&s=J1zDk0u5QCeHk4896Mk0jw HTTP/1.1\u001b[0m\" 200 -\n",
      "127.0.0.1 - - [18/Aug/2018 15:00:28] \"\u001b[37mGET /api/v1/tiles/?d=a.9.0.0&d=a.9.0.1&d=a.9.0.2&d=a.9.1.1&d=a.9.1.2&d=a.9.2.2&d=a.9.0.3&d=a.9.1.3&d=a.9.2.3&s=J1zDk0u5QCeHk4896Mk0jw HTTP/1.1\u001b[0m\" 200 -\n",
      "127.0.0.1 - - [18/Aug/2018 15:00:29] \"\u001b[37mOPTIONS /api/v1/tiles/?d=a.10.0.0&d=a.10.0.1&d=a.10.0.2&d=a.10.1.1&d=a.10.1.2&d=a.10.2.2&d=a.10.0.3&d=a.10.1.3&d=a.10.2.3&s=J1zDk0u5QCeHk4896Mk0jw HTTP/1.1\u001b[0m\" 200 -\n",
      "127.0.0.1 - - [18/Aug/2018 15:00:29] \"\u001b[37mGET /api/v1/tiles/?d=a.10.0.0&d=a.10.0.1&d=a.10.0.2&d=a.10.1.1&d=a.10.1.2&d=a.10.2.2&d=a.10.0.3&d=a.10.1.3&d=a.10.2.3&s=J1zDk0u5QCeHk4896Mk0jw HTTP/1.1\u001b[0m\" 200 -\n"
     ]
    },
    {
     "name": "stderr",
     "output_type": "stream",
     "text": [
      "127.0.0.1 - - [18/Aug/2018 15:00:35] \"\u001b[37mOPTIONS /api/v1/tiles/?d=a.11.0.0&d=a.11.0.1&d=a.11.0.2&d=a.11.1.1&d=a.11.1.2&d=a.11.2.2&d=a.11.0.3&d=a.11.1.3&d=a.11.2.3&d=a.11.0.4&d=a.11.1.4&d=a.11.2.4&s=J1zDk0u5QCeHk4896Mk0jw HTTP/1.1\u001b[0m\" 200 -\n",
      "127.0.0.1 - - [18/Aug/2018 15:00:35] \"\u001b[37mGET /api/v1/tiles/?d=a.11.0.0&d=a.11.0.1&d=a.11.0.2&d=a.11.1.1&d=a.11.1.2&d=a.11.2.2&d=a.11.0.3&d=a.11.1.3&d=a.11.2.3&d=a.11.0.4&d=a.11.1.4&d=a.11.2.4&s=J1zDk0u5QCeHk4896Mk0jw HTTP/1.1\u001b[0m\" 200 -\n",
      "127.0.0.1 - - [18/Aug/2018 15:00:36] \"\u001b[37mOPTIONS /api/v1/tiles/?d=a.11.0.4&d=a.11.1.4&d=a.11.2.4&s=J1zDk0u5QCeHk4896Mk0jw HTTP/1.1\u001b[0m\" 200 -\n",
      "127.0.0.1 - - [18/Aug/2018 15:00:37] \"\u001b[37mGET /api/v1/tiles/?d=a.11.0.4&d=a.11.1.4&d=a.11.2.4&s=J1zDk0u5QCeHk4896Mk0jw HTTP/1.1\u001b[0m\" 200 -\n",
      "127.0.0.1 - - [18/Aug/2018 15:00:38] \"\u001b[37mOPTIONS /api/v1/tiles/?d=a.10.0.0&d=a.10.0.1&d=a.10.1.1&d=a.10.0.2&d=a.10.1.2&s=J1zDk0u5QCeHk4896Mk0jw HTTP/1.1\u001b[0m\" 200 -\n",
      "127.0.0.1 - - [18/Aug/2018 15:00:38] \"\u001b[37mGET /api/v1/tiles/?d=a.10.0.0&d=a.10.0.1&d=a.10.1.1&d=a.10.0.2&d=a.10.1.2&s=J1zDk0u5QCeHk4896Mk0jw HTTP/1.1\u001b[0m\" 200 -\n",
      "127.0.0.1 - - [18/Aug/2018 15:00:38] \"\u001b[37mOPTIONS /api/v1/tiles/?d=a.10.0.3&d=a.10.1.3&s=J1zDk0u5QCeHk4896Mk0jw HTTP/1.1\u001b[0m\" 200 -\n",
      "127.0.0.1 - - [18/Aug/2018 15:00:39] \"\u001b[37mGET /api/v1/tiles/?d=a.10.0.3&d=a.10.1.3&s=J1zDk0u5QCeHk4896Mk0jw HTTP/1.1\u001b[0m\" 200 -\n",
      "127.0.0.1 - - [18/Aug/2018 15:00:39] \"\u001b[37mOPTIONS /api/v1/tiles/?d=a.9.0.0&d=a.9.0.1&d=a.9.1.1&d=a.9.0.2&d=a.9.1.2&s=J1zDk0u5QCeHk4896Mk0jw HTTP/1.1\u001b[0m\" 200 -\n",
      "127.0.0.1 - - [18/Aug/2018 15:00:39] \"\u001b[37mGET /api/v1/tiles/?d=a.9.0.0&d=a.9.0.1&d=a.9.1.1&d=a.9.0.2&d=a.9.1.2&s=J1zDk0u5QCeHk4896Mk0jw HTTP/1.1\u001b[0m\" 200 -\n",
      "127.0.0.1 - - [18/Aug/2018 15:00:39] \"\u001b[37mOPTIONS /api/v1/tiles/?d=a.9.0.3&d=a.9.1.3&s=J1zDk0u5QCeHk4896Mk0jw HTTP/1.1\u001b[0m\" 200 -\n",
      "127.0.0.1 - - [18/Aug/2018 15:00:40] \"\u001b[37mGET /api/v1/tiles/?d=a.9.0.3&d=a.9.1.3&s=J1zDk0u5QCeHk4896Mk0jw HTTP/1.1\u001b[0m\" 200 -\n",
      "127.0.0.1 - - [18/Aug/2018 15:00:41] \"\u001b[37mOPTIONS /api/v1/tiles/?d=a.10.0.0&d=a.10.0.1&d=a.10.1.1&d=a.10.0.2&d=a.10.1.2&d=a.10.0.3&d=a.10.1.3&s=J1zDk0u5QCeHk4896Mk0jw HTTP/1.1\u001b[0m\" 200 -\n",
      "127.0.0.1 - - [18/Aug/2018 15:00:41] \"\u001b[37mGET /api/v1/tiles/?d=a.10.0.0&d=a.10.0.1&d=a.10.1.1&d=a.10.0.2&d=a.10.1.2&d=a.10.0.3&d=a.10.1.3&s=J1zDk0u5QCeHk4896Mk0jw HTTP/1.1\u001b[0m\" 200 -\n",
      "127.0.0.1 - - [18/Aug/2018 15:00:41] \"\u001b[37mOPTIONS /api/v1/tiles/?d=a.11.0.0&d=a.11.0.1&d=a.11.0.2&d=a.11.1.1&d=a.11.1.2&d=a.11.2.2&d=a.11.0.3&d=a.11.1.3&d=a.11.2.3&d=a.11.0.4&d=a.11.1.4&d=a.11.2.4&s=J1zDk0u5QCeHk4896Mk0jw HTTP/1.1\u001b[0m\" 200 -\n",
      "127.0.0.1 - - [18/Aug/2018 15:00:42] \"\u001b[37mGET /api/v1/tiles/?d=a.11.0.0&d=a.11.0.1&d=a.11.0.2&d=a.11.1.1&d=a.11.1.2&d=a.11.2.2&d=a.11.0.3&d=a.11.1.3&d=a.11.2.3&d=a.11.0.4&d=a.11.1.4&d=a.11.2.4&s=J1zDk0u5QCeHk4896Mk0jw HTTP/1.1\u001b[0m\" 200 -\n",
      "127.0.0.1 - - [18/Aug/2018 15:00:43] \"\u001b[37mOPTIONS /api/v1/tiles/?d=a.12.0.0&d=a.12.0.1&d=a.12.0.2&d=a.12.1.1&d=a.12.1.2&d=a.12.2.2&d=a.12.0.3&d=a.12.1.3&d=a.12.2.3&d=a.12.0.4&d=a.12.1.4&d=a.12.2.4&s=J1zDk0u5QCeHk4896Mk0jw HTTP/1.1\u001b[0m\" 200 -\n",
      "127.0.0.1 - - [18/Aug/2018 15:00:44] \"\u001b[37mGET /api/v1/tiles/?d=a.12.0.0&d=a.12.0.1&d=a.12.0.2&d=a.12.1.1&d=a.12.1.2&d=a.12.2.2&d=a.12.0.3&d=a.12.1.3&d=a.12.2.3&d=a.12.0.4&d=a.12.1.4&d=a.12.2.4&s=J1zDk0u5QCeHk4896Mk0jw HTTP/1.1\u001b[0m\" 200 -\n",
      "127.0.0.1 - - [18/Aug/2018 15:00:52] \"\u001b[37mOPTIONS /api/v1/tiles/?d=a.12.0.1&s=J1zDk0u5QCeHk4896Mk0jw HTTP/1.1\u001b[0m\" 200 -\n",
      "127.0.0.1 - - [18/Aug/2018 15:00:53] \"\u001b[37mGET /api/v1/tiles/?d=a.12.0.1&s=J1zDk0u5QCeHk4896Mk0jw HTTP/1.1\u001b[0m\" 200 -\n",
      "127.0.0.1 - - [18/Aug/2018 15:00:53] \"\u001b[37mOPTIONS /api/v1/tiles/?d=a.12.0.1&d=a.12.1.1&s=J1zDk0u5QCeHk4896Mk0jw HTTP/1.1\u001b[0m\" 200 -\n",
      "127.0.0.1 - - [18/Aug/2018 15:00:53] \"\u001b[37mGET /api/v1/tiles/?d=a.12.0.1&d=a.12.1.1&s=J1zDk0u5QCeHk4896Mk0jw HTTP/1.1\u001b[0m\" 200 -\n",
      "127.0.0.1 - - [18/Aug/2018 15:00:54] \"\u001b[37mOPTIONS /api/v1/tiles/?d=a.12.0.2&d=a.12.1.2&s=J1zDk0u5QCeHk4896Mk0jw HTTP/1.1\u001b[0m\" 200 -\n",
      "127.0.0.1 - - [18/Aug/2018 15:00:54] \"\u001b[37mGET /api/v1/tiles/?d=a.12.0.2&d=a.12.1.2&s=J1zDk0u5QCeHk4896Mk0jw HTTP/1.1\u001b[0m\" 200 -\n",
      "127.0.0.1 - - [18/Aug/2018 15:00:54] \"\u001b[37mOPTIONS /api/v1/tiles/?d=a.12.0.3&d=a.12.1.3&s=J1zDk0u5QCeHk4896Mk0jw HTTP/1.1\u001b[0m\" 200 -\n",
      "127.0.0.1 - - [18/Aug/2018 15:00:55] \"\u001b[37mGET /api/v1/tiles/?d=a.12.0.3&d=a.12.1.3&s=J1zDk0u5QCeHk4896Mk0jw HTTP/1.1\u001b[0m\" 200 -\n",
      "127.0.0.1 - - [18/Aug/2018 15:00:55] \"\u001b[37mOPTIONS /api/v1/tiles/?d=a.12.0.2&d=a.12.1.2&d=a.12.2.2&d=a.12.2.3&d=a.12.0.4&d=a.12.1.4&d=a.12.2.4&s=J1zDk0u5QCeHk4896Mk0jw HTTP/1.1\u001b[0m\" 200 -\n",
      "127.0.0.1 - - [18/Aug/2018 15:00:56] \"\u001b[37mGET /api/v1/tiles/?d=a.12.0.2&d=a.12.1.2&d=a.12.2.2&d=a.12.2.3&d=a.12.0.4&d=a.12.1.4&d=a.12.2.4&s=J1zDk0u5QCeHk4896Mk0jw HTTP/1.1\u001b[0m\" 200 -\n",
      "127.0.0.1 - - [18/Aug/2018 15:01:11] \"\u001b[37mOPTIONS /api/v1/tiles/?d=a.12.0.1&d=a.12.1.1&d=a.12.0.2&d=a.12.1.2&s=J1zDk0u5QCeHk4896Mk0jw HTTP/1.1\u001b[0m\" 200 -\n",
      "127.0.0.1 - - [18/Aug/2018 15:01:12] \"\u001b[37mGET /api/v1/tiles/?d=a.12.0.1&d=a.12.1.1&d=a.12.0.2&d=a.12.1.2&s=J1zDk0u5QCeHk4896Mk0jw HTTP/1.1\u001b[0m\" 200 -\n",
      "127.0.0.1 - - [18/Aug/2018 15:01:12] \"\u001b[37mOPTIONS /api/v1/tiles/?d=a.12.2.2&d=a.12.0.3&d=a.12.1.3&d=a.12.2.3&d=a.12.0.4&d=a.12.1.4&d=a.12.2.4&d=a.11.0.0&d=a.11.0.1&d=a.11.1.1&d=a.11.0.2&d=a.11.1.2&s=J1zDk0u5QCeHk4896Mk0jw HTTP/1.1\u001b[0m\" 200 -\n",
      "127.0.0.1 - - [18/Aug/2018 15:01:12] \"\u001b[37mGET /api/v1/tiles/?d=a.12.2.2&d=a.12.0.3&d=a.12.1.3&d=a.12.2.3&d=a.12.0.4&d=a.12.1.4&d=a.12.2.4&d=a.11.0.0&d=a.11.0.1&d=a.11.1.1&d=a.11.0.2&d=a.11.1.2&s=J1zDk0u5QCeHk4896Mk0jw HTTP/1.1\u001b[0m\" 200 -\n",
      "127.0.0.1 - - [18/Aug/2018 15:01:14] \"\u001b[37mOPTIONS /api/v1/tiles/?d=a.12.0.0&d=a.12.0.1&d=a.12.0.2&d=a.12.1.1&d=a.12.1.2&d=a.12.2.2&d=a.12.0.3&d=a.12.1.3&d=a.12.2.3&d=a.12.0.4&d=a.12.1.4&d=a.12.2.4&s=J1zDk0u5QCeHk4896Mk0jw HTTP/1.1\u001b[0m\" 200 -\n",
      "127.0.0.1 - - [18/Aug/2018 15:01:15] \"\u001b[37mGET /api/v1/tiles/?d=a.12.0.0&d=a.12.0.1&d=a.12.0.2&d=a.12.1.1&d=a.12.1.2&d=a.12.2.2&d=a.12.0.3&d=a.12.1.3&d=a.12.2.3&d=a.12.0.4&d=a.12.1.4&d=a.12.2.4&s=J1zDk0u5QCeHk4896Mk0jw HTTP/1.1\u001b[0m\" 200 -\n",
      "127.0.0.1 - - [18/Aug/2018 15:01:16] \"\u001b[37mOPTIONS /api/v1/tiles/?d=a.12.0.2&d=a.12.1.2&d=a.12.2.2&d=a.12.2.3&d=a.12.0.4&d=a.12.1.4&d=a.12.2.4&d=a.11.0.0&d=a.11.0.1&d=a.11.1.1&d=a.11.0.2&d=a.11.1.2&s=J1zDk0u5QCeHk4896Mk0jw HTTP/1.1\u001b[0m\" 200 -\n",
      "127.0.0.1 - - [18/Aug/2018 15:01:17] \"\u001b[37mGET /api/v1/tiles/?d=a.12.0.2&d=a.12.1.2&d=a.12.2.2&d=a.12.2.3&d=a.12.0.4&d=a.12.1.4&d=a.12.2.4&d=a.11.0.0&d=a.11.0.1&d=a.11.1.1&d=a.11.0.2&d=a.11.1.2&s=J1zDk0u5QCeHk4896Mk0jw HTTP/1.1\u001b[0m\" 200 -\n",
      "127.0.0.1 - - [18/Aug/2018 15:01:18] \"\u001b[37mOPTIONS /api/v1/tiles/?d=a.11.0.3&d=a.11.1.3&d=a.11.0.4&d=a.11.1.4&s=J1zDk0u5QCeHk4896Mk0jw HTTP/1.1\u001b[0m\" 200 -\n",
      "127.0.0.1 - - [18/Aug/2018 15:01:18] \"\u001b[37mGET /api/v1/tiles/?d=a.11.0.3&d=a.11.1.3&d=a.11.0.4&d=a.11.1.4&s=J1zDk0u5QCeHk4896Mk0jw HTTP/1.1\u001b[0m\" 200 -\n",
      "127.0.0.1 - - [18/Aug/2018 15:01:19] \"\u001b[37mOPTIONS /api/v1/tiles/?d=a.11.0.5&d=a.11.1.5&s=J1zDk0u5QCeHk4896Mk0jw HTTP/1.1\u001b[0m\" 200 -\n",
      "127.0.0.1 - - [18/Aug/2018 15:01:19] \"\u001b[37mGET /api/v1/tiles/?d=a.11.0.5&d=a.11.1.5&s=J1zDk0u5QCeHk4896Mk0jw HTTP/1.1\u001b[0m\" 200 -\n",
      "127.0.0.1 - - [18/Aug/2018 15:01:19] \"\u001b[37mOPTIONS /api/v1/tiles/?d=a.11.0.6&d=a.11.1.6&s=J1zDk0u5QCeHk4896Mk0jw HTTP/1.1\u001b[0m\" 200 -\n",
      "127.0.0.1 - - [18/Aug/2018 15:01:19] \"\u001b[37mGET /api/v1/tiles/?d=a.11.0.6&d=a.11.1.6&s=J1zDk0u5QCeHk4896Mk0jw HTTP/1.1\u001b[0m\" 200 -\n",
      "127.0.0.1 - - [18/Aug/2018 15:01:20] \"\u001b[37mOPTIONS /api/v1/tiles/?d=a.11.0.1&d=a.11.1.1&d=a.11.0.0&s=J1zDk0u5QCeHk4896Mk0jw HTTP/1.1\u001b[0m\" 200 -\n",
      "127.0.0.1 - - [18/Aug/2018 15:01:20] \"\u001b[37mGET /api/v1/tiles/?d=a.11.0.1&d=a.11.1.1&d=a.11.0.0&s=J1zDk0u5QCeHk4896Mk0jw HTTP/1.1\u001b[0m\" 200 -\n",
      "127.0.0.1 - - [18/Aug/2018 15:01:21] \"\u001b[37mOPTIONS /api/v1/tiles/?d=a.11.0.5&d=a.11.1.5&d=a.11.0.6&d=a.11.1.6&d=a.11.0.7&d=a.11.1.7&d=a.11.2.4&d=a.11.2.5&d=a.11.2.6&d=a.11.2.7&s=J1zDk0u5QCeHk4896Mk0jw HTTP/1.1\u001b[0m\" 200 -\n",
      "127.0.0.1 - - [18/Aug/2018 15:01:21] \"\u001b[37mGET /api/v1/tiles/?d=a.11.0.5&d=a.11.1.5&d=a.11.0.6&d=a.11.1.6&d=a.11.0.7&d=a.11.1.7&d=a.11.2.4&d=a.11.2.5&d=a.11.2.6&d=a.11.2.7&s=J1zDk0u5QCeHk4896Mk0jw HTTP/1.1\u001b[0m\" 200 -\n",
      "127.0.0.1 - - [18/Aug/2018 15:01:22] \"\u001b[37mOPTIONS /api/v1/tiles/?d=a.11.0.8&d=a.11.1.8&s=J1zDk0u5QCeHk4896Mk0jw HTTP/1.1\u001b[0m\" 200 -\n",
      "127.0.0.1 - - [18/Aug/2018 15:01:22] \"\u001b[37mGET /api/v1/tiles/?d=a.11.0.8&d=a.11.1.8&s=J1zDk0u5QCeHk4896Mk0jw HTTP/1.1\u001b[0m\" 200 -\n"
     ]
    },
    {
     "name": "stderr",
     "output_type": "stream",
     "text": [
      "127.0.0.1 - - [18/Aug/2018 15:01:23] \"\u001b[37mOPTIONS /api/v1/tiles/?d=a.11.0.4&d=a.11.1.4&d=a.11.0.3&d=a.11.1.3&s=J1zDk0u5QCeHk4896Mk0jw HTTP/1.1\u001b[0m\" 200 -\n",
      "127.0.0.1 - - [18/Aug/2018 15:01:23] \"\u001b[37mGET /api/v1/tiles/?d=a.11.0.4&d=a.11.1.4&d=a.11.0.3&d=a.11.1.3&s=J1zDk0u5QCeHk4896Mk0jw HTTP/1.1\u001b[0m\" 200 -\n",
      "127.0.0.1 - - [18/Aug/2018 15:01:24] \"\u001b[37mOPTIONS /api/v1/tiles/?d=a.11.0.2&d=a.11.1.2&d=a.11.0.1&d=a.11.1.1&s=J1zDk0u5QCeHk4896Mk0jw HTTP/1.1\u001b[0m\" 200 -\n",
      "127.0.0.1 - - [18/Aug/2018 15:01:24] \"\u001b[37mGET /api/v1/tiles/?d=a.11.0.2&d=a.11.1.2&d=a.11.0.1&d=a.11.1.1&s=J1zDk0u5QCeHk4896Mk0jw HTTP/1.1\u001b[0m\" 200 -\n",
      "127.0.0.1 - - [18/Aug/2018 15:01:25] \"\u001b[37mOPTIONS /api/v1/tiles/?d=a.11.0.0&d=a.11.0.1&s=J1zDk0u5QCeHk4896Mk0jw HTTP/1.1\u001b[0m\" 200 -\n",
      "127.0.0.1 - - [18/Aug/2018 15:01:25] \"\u001b[37mGET /api/v1/tiles/?d=a.11.0.0&d=a.11.0.1&s=J1zDk0u5QCeHk4896Mk0jw HTTP/1.1\u001b[0m\" 200 -\n",
      "127.0.0.1 - - [18/Aug/2018 15:01:38] \"\u001b[37mOPTIONS /api/v1/tiles/?d=a.11.0.2&d=a.11.1.2&d=a.11.2.2&d=a.11.0.3&d=a.11.1.3&d=a.11.2.3&d=a.10.0.0&d=a.10.0.1&d=a.10.1.1&s=J1zDk0u5QCeHk4896Mk0jw HTTP/1.1\u001b[0m\" 200 -\n",
      "127.0.0.1 - - [18/Aug/2018 15:01:38] \"\u001b[37mGET /api/v1/tiles/?d=a.11.0.2&d=a.11.1.2&d=a.11.2.2&d=a.11.0.3&d=a.11.1.3&d=a.11.2.3&d=a.10.0.0&d=a.10.0.1&d=a.10.1.1&s=J1zDk0u5QCeHk4896Mk0jw HTTP/1.1\u001b[0m\" 200 -\n",
      "127.0.0.1 - - [18/Aug/2018 15:01:39] \"\u001b[37mOPTIONS /api/v1/tiles/?d=a.10.0.2&d=a.10.1.2&s=J1zDk0u5QCeHk4896Mk0jw HTTP/1.1\u001b[0m\" 200 -\n",
      "127.0.0.1 - - [18/Aug/2018 15:01:39] \"\u001b[37mGET /api/v1/tiles/?d=a.10.0.2&d=a.10.1.2&s=J1zDk0u5QCeHk4896Mk0jw HTTP/1.1\u001b[0m\" 200 -\n",
      "127.0.0.1 - - [18/Aug/2018 15:01:39] \"\u001b[37mOPTIONS /api/v1/tiles/?d=a.10.2.2&s=J1zDk0u5QCeHk4896Mk0jw HTTP/1.1\u001b[0m\" 200 -\n",
      "127.0.0.1 - - [18/Aug/2018 15:01:40] \"\u001b[37mGET /api/v1/tiles/?d=a.10.2.2&s=J1zDk0u5QCeHk4896Mk0jw HTTP/1.1\u001b[0m\" 200 -\n",
      "127.0.0.1 - - [18/Aug/2018 15:02:13] \"\u001b[37mOPTIONS /api/v1/tiles/?d=a.12.0.0&s=J1zDk0u5QCeHk4896Mk0jw HTTP/1.1\u001b[0m\" 200 -\n",
      "127.0.0.1 - - [18/Aug/2018 15:02:13] \"\u001b[37mGET /api/v1/tiles/?d=a.12.0.0&s=J1zDk0u5QCeHk4896Mk0jw HTTP/1.1\u001b[0m\" 200 -\n",
      "127.0.0.1 - - [18/Aug/2018 15:02:26] \"\u001b[37mOPTIONS /api/v1/tiles/?d=a.12.0.1&s=J1zDk0u5QCeHk4896Mk0jw HTTP/1.1\u001b[0m\" 200 -\n",
      "127.0.0.1 - - [18/Aug/2018 15:02:26] \"\u001b[37mGET /api/v1/tiles/?d=a.12.0.1&s=J1zDk0u5QCeHk4896Mk0jw HTTP/1.1\u001b[0m\" 200 -\n",
      "127.0.0.1 - - [18/Aug/2018 15:02:28] \"\u001b[37mOPTIONS /api/v1/tiles/?d=a.12.0.2&d=a.12.0.0&s=J1zDk0u5QCeHk4896Mk0jw HTTP/1.1\u001b[0m\" 200 -\n",
      "127.0.0.1 - - [18/Aug/2018 15:02:28] \"\u001b[37mGET /api/v1/tiles/?d=a.12.0.2&d=a.12.0.0&s=J1zDk0u5QCeHk4896Mk0jw HTTP/1.1\u001b[0m\" 200 -\n",
      "127.0.0.1 - - [18/Aug/2018 15:02:29] \"\u001b[37mOPTIONS /api/v1/tiles/?d=a.12.1.1&d=a.12.1.2&d=a.12.0.3&d=a.12.1.3&s=J1zDk0u5QCeHk4896Mk0jw HTTP/1.1\u001b[0m\" 200 -\n",
      "127.0.0.1 - - [18/Aug/2018 15:02:30] \"\u001b[37mGET /api/v1/tiles/?d=a.12.1.1&d=a.12.1.2&d=a.12.0.3&d=a.12.1.3&s=J1zDk0u5QCeHk4896Mk0jw HTTP/1.1\u001b[0m\" 200 -\n",
      "127.0.0.1 - - [18/Aug/2018 15:02:30] \"\u001b[37mGET /api/v1/tiles/?d=a.12.0.1&s=J1zDk0u5QCeHk4896Mk0jw HTTP/1.1\u001b[0m\" 200 -\n",
      "127.0.0.1 - - [18/Aug/2018 15:02:31] \"\u001b[37mOPTIONS /api/v1/tiles/?d=a.12.1.2&d=a.12.2.2&d=a.12.2.3&d=a.12.0.4&d=a.12.1.4&d=a.12.2.4&d=a.12.0.5&d=a.12.1.5&d=a.12.2.5&s=J1zDk0u5QCeHk4896Mk0jw HTTP/1.1\u001b[0m\" 200 -\n",
      "127.0.0.1 - - [18/Aug/2018 15:02:32] \"\u001b[37mGET /api/v1/tiles/?d=a.12.1.2&d=a.12.2.2&d=a.12.2.3&d=a.12.0.4&d=a.12.1.4&d=a.12.2.4&d=a.12.0.5&d=a.12.1.5&d=a.12.2.5&s=J1zDk0u5QCeHk4896Mk0jw HTTP/1.1\u001b[0m\" 200 -\n",
      "127.0.0.1 - - [18/Aug/2018 15:02:35] \"\u001b[37mOPTIONS /api/v1/tiles/?d=a.12.0.0&d=a.12.0.1&d=a.12.0.2&d=a.12.0.3&d=a.12.1.3&d=a.12.2.3&d=a.12.3.3&d=a.12.3.4&s=J1zDk0u5QCeHk4896Mk0jw HTTP/1.1\u001b[0m\" 200 -\n",
      "127.0.0.1 - - [18/Aug/2018 15:02:36] \"\u001b[37mGET /api/v1/tiles/?d=a.12.0.0&d=a.12.0.1&d=a.12.0.2&d=a.12.0.3&d=a.12.1.3&d=a.12.2.3&d=a.12.3.3&d=a.12.3.4&s=J1zDk0u5QCeHk4896Mk0jw HTTP/1.1\u001b[0m\" 200 -\n",
      "127.0.0.1 - - [18/Aug/2018 15:02:37] \"\u001b[37mOPTIONS /api/v1/tiles/?d=a.12.0.4&d=a.12.1.4&d=a.12.2.4&d=a.12.3.4&d=a.12.4.4&s=J1zDk0u5QCeHk4896Mk0jw HTTP/1.1\u001b[0m\" 200 -\n",
      "127.0.0.1 - - [18/Aug/2018 15:02:37] \"\u001b[37mGET /api/v1/tiles/?d=a.12.0.4&d=a.12.1.4&d=a.12.2.4&d=a.12.3.4&d=a.12.4.4&s=J1zDk0u5QCeHk4896Mk0jw HTTP/1.1\u001b[0m\" 200 -\n"
     ]
    }
   ],
   "source": [
    "\n",
    "tilesets = [\n",
    "    {\n",
    "        'filepath': 'matrix.mcool',\n",
    "        'uuid': 'a',\n",
    "    }\n",
    "]\n",
    "server = hgflask.start(tilesets)"
   ]
  },
  {
   "cell_type": "code",
   "execution_count": 60,
   "metadata": {},
   "outputs": [
    {
     "data": {
      "text/plain": [
       "{'a': {'bins_per_dimension': 256,\n",
       "  'chromsizes': [['chrom1', 1000000]],\n",
       "  'filepath': 'matrix.mcool',\n",
       "  'max_pos': [1000000, 1000000],\n",
       "  'max_width': 1048576,\n",
       "  'max_zoom': 12,\n",
       "  'min_pos': [0, 0],\n",
       "  'transforms': [],\n",
       "  'uuid': 'a'}}"
      ]
     },
     "execution_count": 60,
     "metadata": {},
     "output_type": "execute_result"
    }
   ],
   "source": [
    "server.tileset_info('a')"
   ]
  },
  {
   "cell_type": "code",
   "execution_count": 63,
   "metadata": {},
   "outputs": [
    {
     "data": {
      "application/vnd.jupyter.widget-view+json": {
       "model_id": "f1b101c7a9c34475a5e902d568431f70",
       "version_major": 2,
       "version_minor": 0
      },
      "text/plain": [
       "A Jupyter Widget"
      ]
     },
     "metadata": {},
     "output_type": "display_data"
    }
   ],
   "source": [
    "import hgflask.client as hfc\n",
    "\n",
    "hgc = hfc.HiGlassConfig()\n",
    "view_uid = hgc.add_view()\n",
    "hgc.add_track(view_uid, 'heatmap', 'center', \n",
    "              'http://localhost:{}/api/v1'.format(server.port), \n",
    "              'a')\n",
    "\n",
    "import jupyter_higlass\n",
    "jupyter_higlass.HiGlassDisplay(viewconf=hgc.to_json_string())"
   ]
  },
  {
   "cell_type": "code",
   "execution_count": null,
   "metadata": {
    "collapsed": true
   },
   "outputs": [],
   "source": []
  }
 ],
 "metadata": {
  "kernelspec": {
   "display_name": "Python 3",
   "language": "python",
   "name": "python3"
  },
  "language_info": {
   "codemirror_mode": {
    "name": "ipython",
    "version": 3
   },
   "file_extension": ".py",
   "mimetype": "text/x-python",
   "name": "python",
   "nbconvert_exporter": "python",
   "pygments_lexer": "ipython3",
   "version": "3.6.2"
  }
 },
 "nbformat": 4,
 "nbformat_minor": 2
}
